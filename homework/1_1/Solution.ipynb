{
 "cells": [
  {
   "cell_type": "code",
   "execution_count": 43,
   "metadata": {},
   "outputs": [],
   "source": [
    "from Bio import SeqIO\n",
    "import distance"
   ]
  },
  {
   "cell_type": "markdown",
   "metadata": {},
   "source": [
    "# Хэмминг\n",
    "Реализуйте вычисление расстояния Хэмминга."
   ]
  },
  {
   "cell_type": "code",
   "execution_count": 52,
   "metadata": {},
   "outputs": [],
   "source": [
    "fasta_sequences = SeqIO.parse(r\"D:\\HSE\\BioinformaticsCourse2024\\homework\\1_1\\data\\gattaca.fasta\", \"fasta\")"
   ]
  },
  {
   "cell_type": "code",
   "execution_count": 53,
   "metadata": {},
   "outputs": [
    {
     "name": "stdout",
     "output_type": "stream",
     "text": [
      "Read sequence from file:\n",
      "ID: first\n",
      "Description: first\n",
      "Sequence: GATTACA\n",
      "Read sequence from file:\n",
      "ID: second\n",
      "Description: second\n",
      "Sequence: CATTAGA\n"
     ]
    }
   ],
   "source": [
    "sequences = []\n",
    "for record in fasta_sequences:\n",
    "    print(\"Read sequence from file:\")\n",
    "    print(\"ID:\", record.id)\n",
    "    print(\"Description:\", record.description)\n",
    "    print(\"Sequence:\", record.seq)\n",
    "    sequences.append(record.seq)"
   ]
  },
  {
   "cell_type": "code",
   "execution_count": 54,
   "metadata": {},
   "outputs": [],
   "source": [
    "def hamming_distance(seq1, seq2):\n",
    "    distance = 0\n",
    "    for i in range(len(seq1)):\n",
    "        if seq1[i] != seq2[i]:\n",
    "            distance += 1\n",
    "    return distance"
   ]
  },
  {
   "cell_type": "code",
   "execution_count": 55,
   "metadata": {},
   "outputs": [
    {
     "name": "stdout",
     "output_type": "stream",
     "text": [
      "2\n"
     ]
    }
   ],
   "source": [
    "seq1, seq2 = sequences\n",
    "print(hamming_distance(seq1, seq2))"
   ]
  },
  {
   "cell_type": "code",
   "execution_count": 56,
   "metadata": {},
   "outputs": [
    {
     "data": {
      "text/plain": [
       "2"
      ]
     },
     "execution_count": 56,
     "metadata": {},
     "output_type": "execute_result"
    }
   ],
   "source": [
    "distance.hamming(str(seq1), str(seq2))  # test of my solution"
   ]
  },
  {
   "cell_type": "markdown",
   "metadata": {},
   "source": [
    "# Ближайшая подстрока\n",
    "Даны 2 строки над алфавитом ATGC, реализуйте алгоритм, который позволит находить подстроку в более длинной строке, которая ближе всего по расстоянию Хэминга к боллее короткой. Верните позицию начала этой подстроки, саму подстроку и рассстояние хэмминга."
   ]
  },
  {
   "cell_type": "code",
   "execution_count": 91,
   "metadata": {},
   "outputs": [],
   "source": [
    "fasta_sequences = SeqIO.parse(r\"D:\\HSE\\BioinformaticsCourse2024\\homework\\1_1\\data\\gattaca.fasta\", \"fasta\")"
   ]
  },
  {
   "cell_type": "code",
   "execution_count": 92,
   "metadata": {},
   "outputs": [
    {
     "name": "stdout",
     "output_type": "stream",
     "text": [
      "Read sequence from file:\n",
      "ID: first\n",
      "Description: first\n",
      "Sequence: GATTACA\n",
      "Read sequence from file:\n",
      "ID: second\n",
      "Description: second\n",
      "Sequence: CATTAGA\n"
     ]
    }
   ],
   "source": [
    "sequences = []\n",
    "for record in fasta_sequences:\n",
    "    print(\"Read sequence from file:\")\n",
    "    print(\"ID:\", record.id)\n",
    "    print(\"Description:\", record.description)\n",
    "    print(\"Sequence:\", record.seq)\n",
    "    sequences.append(record.seq)"
   ]
  },
  {
   "cell_type": "code",
   "execution_count": 93,
   "metadata": {},
   "outputs": [],
   "source": [
    "def subsequence_search(seq, subseq):\n",
    "    subseq_len = len(subseq)\n",
    "    seq_len = len(seq)\n",
    "    min_hamming_dist = 10e6\n",
    "    start_pos = 0\n",
    "    closest_subseq = ''\n",
    "    for i in range(seq_len - subseq_len + 1):\n",
    "        pattern  = seq[i:i+subseq_len]\n",
    "        distance = hamming_distance(pattern, subseq) \n",
    "        if distance < min_hamming_dist:\n",
    "            min_hamming_dist = distance\n",
    "            start_pos = i\n",
    "            closest_subseq = pattern\n",
    "    return start_pos, closest_subseq, min_hamming_dist\n",
    "        "
   ]
  },
  {
   "cell_type": "code",
   "execution_count": 94,
   "metadata": {},
   "outputs": [
    {
     "name": "stdout",
     "output_type": "stream",
     "text": [
      "(3, Seq('TAC'), 2)\n"
     ]
    }
   ],
   "source": [
    "seq1, seq2 = sequences[0], 'CCC'\n",
    "print(subsequence_search(seq1, seq2))"
   ]
  },
  {
   "cell_type": "markdown",
   "metadata": {},
   "source": [
    "# Левенштейн\n",
    "Реализуйте алгоритм вычисления расстояния редактирования. O(n•m) по времени и O(min(n, m)) по памяти (обратите внимание на то, что возвращать способ получения из одной строки другую не нужно). Алгоритм возвращаеет одно число - расстояние редактирования между входными строками."
   ]
  },
  {
   "cell_type": "code",
   "execution_count": 98,
   "metadata": {},
   "outputs": [],
   "source": [
    "fasta_sequences = SeqIO.parse(r\"D:\\HSE\\BioinformaticsCourse2024\\homework\\1_1\\data\\f8.fasta\", \"fasta\")"
   ]
  },
  {
   "cell_type": "code",
   "execution_count": 99,
   "metadata": {},
   "outputs": [
    {
     "name": "stdout",
     "output_type": "stream",
     "text": [
      "Read sequence from file:\n",
      "ID: NC_000023\n",
      "Description: NC_000023\n",
      "Sequence: AAGTGCTTGGGGCGGCGAGCATGGCGGCAGCGGCTGCAGGCCTGGGCGGCGGCGGCGCCGGCCCGGGACCCGAGGCCGGGGACTTCCTGGCCCGCTACCGGCTGGTATCGAACAAGCTGAAGAAGCGGTTCCTGCGGAAGCCGAACGTGGCGGAGGCCGGCGAGCAGTTCGGACAGCTGGGCCGGGAGCTGCGCGCCCAGGAGTGTCTGCCCTACGCGGCCTGGTGCCAGCTGGCGGTGGCGCGCTGCCAGCAGGCGCTCTTCCACGGGCCCGGGGAGGCGCTGGCCCTCACCGAGGCCGCCCGCCTCTTCCTGCGGCAGGAGCGCGACGCGCGCCAGCGCCTGGTCTGCCCCGCCGCCTACGGGGAGCCGCTGCAGGCCGCCGCCAGCGCCCTGGGCGCCGCGGTGCGTCTGCACCTCGAGCTGGGCCAGCCGGCCGCCGCCGCCGCCCTCTGCCTCGAGCTGGCCGCCGCCCTGCGCGACCTGGGCCAGCCGGCCGCCGCCGCCGGTCACTTCCAGCGCGCCGCCCAGCTCCAGCTGCCCCAGCTGCCCCTGGCCGCGCTGCAGGCGCTTGGCGAGGCCGCCTCCTGCCAGCTGCTGGCGCGCGACTACACCGGCGCCCTGGCGGTCTTCACGCGCATGCAGCGCCTGGCGCGGGAGCACGGCAGCCACCCGGTGCAGTCACTGCCGCCGCCCCCGCCGCCGGCACCCCAGCCCGGGCCCGGGGCGACGCCCGCCCTACCGGCCGCGCTGCTTCCTCCGAACTCCGGCTCGGCGGCGCCCTCTCCCGCCGCCCTGGGCGCCTTCTCGGACGTGCTGGTCCGCTGCGAGGTGTCCCGCGTGCTGCTGCTGCTCCTCCTGCAACCACCGCCCGCCAAGCTGCTGCCGGAGCACGCCCAGACCCTGGAGAAGTACTCCTGGGAGGCTTTTGACAGCCACGGGCAGGAGAGCAGCGGCCAGCTTCCCGAGGAGCTCTTTCTGCTGCTCCAGTCTTTGGTCATGGCTACCCACGAAAAGGACACGGAAGCCATCAAGTCGCTGCAGGTGGAGATGTGGCCACTGTTGACTGCTGAGCAGAACCACCTCCTTCACCTCGTTCTGCAAGAAACCATCTCCCCCTCAGGACAGGGAGTCTGATCCATCCCATTCACCCAGTGACTTCTTTTTGCCCAGGCCTGGACTTTTTGCATCAGTCACGTTAACCAGATGACTTTGCCTGTTACCAAACCTCATGCATCCACGTTTGCGTCTGGGGAGGAATAAAAAGACATCGTTCCCGCTTCTGCGTTTTGTTATTCCTACTGCCGCCATAGGAATTATTTCGTTGGCTGAACGTTACCAGCACCCCGAGAACACATTTTGATAGAATCAGAGTAGAGGACATGGCTGTCTTCTAAAAAGCCACGACATGAAAATGACAATCCCTTTCGTCTCCTTCCTCCGCTGCTTCCACCTAACGCAGCCTCCTGCCTCCGCCTTTGTTTCATAGTGAGGATTTTATTTTGCACGGCGCCCTCCCTCTAAATACCTACCCTAGATGATTTCATCCTGCCCCTCACTTCTTAACATATTCCTGTGTCTTTGTAATGGCCAAATTTCTCCTTCCACTCGTCCGCACGGTACGTCTTCATGGGAGTCATTTTATTCCTTACAGCTTCCTTGTAACCACAGCCCTAAATCCATGATAAAGCTACTCTTGTACTCCTCA\n",
      "Read sequence from file:\n",
      "ID: NC_000023_random\n",
      "Description: NC_000023_random\n",
      "Sequence: AAGTGCTTGGGGCGGCGAGCATGGCGGCAGCGGCTGCAGGCCTGGGCGGCGGCGGCGCCGGCCCGGGACCCGAGGCCGGGGACTTCCTGGCCCGCTACCGGCTGGTATCGAACAAGCTGAAGAAGCGGTTCCTGCGGAAGCCGAACGTGGCGGAGGCCGGCGAGCAGTTCGGACAGCTGGGCCGGGAGCTGCGCGCCCAGGAGTGTCTGCCCTACGCGGCCTGGATTTTTTTGCCAGCTGGCGGTGGCGCGCTGCCAGCAGGCGGGGGGCCTCTTCCACGGGCCCGGGGAGGCGCTGGCCCTCACCGAGGCCGCCCGCCTCTTCCTGCGGCAGGAGCGCGACGCGCGCCAGCGCCTGGTCTGCCCCGCCGCCTACGGGGAGCCGCTGCAGGCCGCCGCCAGCGCCCTGGGCGCCGCGGTGCGTCTGCACCTCGAGCTGGGCCAGCCGGCCGCCGCCGCCGCCCTCTGCCTCGAGCTGGCCGCCGCCCTGCGCGACCTGGGCCAGCCGGCCGCCGCCGCCGGTCACTTCCAGCGCGCCGCCCAGCTCCAGCTGCCCCAGCTGCCCCTGGCCGCGCTGCAGGCGCTTGGCGAGGCCGCCTCCTGCCAGCTGCTGGCGCGCGACTACACCGGCGCCCTGGCGGTCTTCACGCGCATGCAGCGCCTGGCGCGGGAGCACAAATTGGCAGCCACCCGGTGCAGTCACTGCCGCCGCCCCCGCCGCCGGCACCCCAGCCCGGGCCCGGGGCGACGCCCGCCCTACCGGCCGCGCTGTCGGCGGCGCCCTCTCCCGCCGCCCTGGGCGCCTTCTCGGACGTGCTGGTCCGCTGCGAGGTGTCCCGCGTGCTGCTGCTGCTCCTCCTGCAACCACCGCCCGCCAAGCTGCTGCCGGAGCACGCCCAGACCCTGGAGAAGTACTCCTGGGAGGCTTTTGACAGCCACGGGCAGGAGAGCAGCGGCCAGCTTCCCGAGGAGCTCTTTCTGCTGCTCCAGTCTTTGGTCATGGCTACCCACGAAAAGGACACGGAAGCCATCAAGTCGCTGCAGGTGGAGATGTGGCCACTGTTGACTGCTGAGCAGGGTTTCCGAACCACCTCCTTCACCTCGTTCTGCAAGAAACCATCTCCCCCTCAGGACAGGGAGTCTGATCCATCCCATTCACCCAGTGACTTCTTTTTGCCCAGGCCTGGACTTAGTCACGTTAACCAGATGACTTTGCCTGTTACCAAACCTCATGCATCCACGTTTGCGTCTGGGGAGGAATAAAAAGACATCGTTCCCGCTTCTGCGTTTTGTTATTCCTACTGCCGCCATAGGAATTATTTCGTTGGCTGAACGTTACCAGCACCCCGAGAACACATTTTGATAGAATCAGAGTAGAGGACATGGCTGTCTTCTAAAAAGCCACGACATGAAAATGACAATCCCTTTCGTCTCCTTCCAAAAAAACCCTCCCCCGCTGCTTCCACCTAACGCAGCCTCCTGCCTCCGCCTTTGTTTCATAGTGAGGATTTTATTTTGCACGGCGCCCTCCCTCTAAATACCTACCCTAGATGTTTCATCCTGCCCCTCACTTCTTAACATATTCCTGTGTCTTTGTAATGGCCAAATTTCTCCTTCACTCGTCCGCACGGTACGTCTTCATGGGAGTCATTTTATTCCTTACAGCTTCCTTGTAACCACAGCCCTAAATCCATATAAAGCTACTCTTTACTCCTCA\n"
     ]
    }
   ],
   "source": [
    "sequences = []\n",
    "for record in fasta_sequences:\n",
    "    print(\"Read sequence from file:\")\n",
    "    print(\"ID:\", record.id)\n",
    "    print(\"Description:\", record.description)\n",
    "    print(\"Sequence:\", record.seq)\n",
    "    sequences.append(record.seq)"
   ]
  },
  {
   "cell_type": "code",
   "execution_count": 103,
   "metadata": {},
   "outputs": [],
   "source": [
    "def levenstein_distance(seq1, seq2):\n",
    "    n = len(seq1)\n",
    "    m = len(seq2)\n",
    "    if m > n:\n",
    "        n, m = m, n\n",
    "        seq1, seq2 = seq2, seq1\n",
    "    dp = [[0 for _ in range(m)] for _ in range(2)]\n",
    "    for i in range(1, m):\n",
    "        dp[0][i] = dp[0][i-1] + 1\n",
    "    for i in range(1, n):\n",
    "        dp[1][0] = dp[0][0] + 1\n",
    "        for j in range(1, m):\n",
    "            dp[1][j] = min(\n",
    "                dp[0][j] + 1,\n",
    "                dp[1][j-1] + 1,\n",
    "                dp[0][j-1] + (seq1[i] != seq2[j])\n",
    "            )\n",
    "        dp[0], dp[1] = dp[1], dp[0]\n",
    "    return dp[0][m-1]\n"
   ]
  },
  {
   "cell_type": "code",
   "execution_count": 104,
   "metadata": {},
   "outputs": [
    {
     "name": "stdout",
     "output_type": "stream",
     "text": [
      "69\n"
     ]
    }
   ],
   "source": [
    "seq1, seq2 = sequences\n",
    "print(levenstein_distance(seq1, seq2))"
   ]
  },
  {
   "cell_type": "code",
   "execution_count": 105,
   "metadata": {},
   "outputs": [
    {
     "data": {
      "text/plain": [
       "69"
      ]
     },
     "execution_count": 105,
     "metadata": {},
     "output_type": "execute_result"
    }
   ],
   "source": [
    "distance.levenshtein(str(seq1), str(seq2))  # test of my solution"
   ]
  },
  {
   "cell_type": "code",
   "execution_count": null,
   "metadata": {},
   "outputs": [],
   "source": []
  }
 ],
 "metadata": {
  "kernelspec": {
   "display_name": ".general",
   "language": "python",
   "name": "python3"
  },
  "language_info": {
   "codemirror_mode": {
    "name": "ipython",
    "version": 3
   },
   "file_extension": ".py",
   "mimetype": "text/x-python",
   "name": "python",
   "nbconvert_exporter": "python",
   "pygments_lexer": "ipython3",
   "version": "3.11.5"
  }
 },
 "nbformat": 4,
 "nbformat_minor": 2
}
