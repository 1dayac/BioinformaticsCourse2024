{
 "cells": [
  {
   "cell_type": "code",
   "execution_count": 11,
   "metadata": {},
   "outputs": [],
   "source": [
    "from Bio import SeqIO\n",
    "import distance"
   ]
  },
  {
   "cell_type": "code",
   "execution_count": 12,
   "metadata": {},
   "outputs": [
    {
     "name": "stdout",
     "output_type": "stream",
     "text": [
      "Read sequence from file:\n",
      "ID: first\n",
      "Description: first\n",
      "Sequence: GATTACA\n",
      "Read sequence from file:\n",
      "ID: second\n",
      "Description: second\n",
      "Sequence: CATTAGA\n"
     ]
    }
   ],
   "source": [
    "fasta_sequences = SeqIO.parse(r\"D:\\HSE\\BioinformaticsCourse2024\\homework\\1_1\\data\\gattaca.fasta\", \"fasta\")\n",
    "gattaca_sequences = []\n",
    "for record in fasta_sequences.records:\n",
    "    print(\"Read sequence from file:\")\n",
    "    print(\"ID:\", record.id)\n",
    "    print(\"Description:\", record.description)\n",
    "    print(\"Sequence:\", record.seq)\n",
    "    gattaca_sequences.append(record.seq)"
   ]
  },
  {
   "cell_type": "code",
   "execution_count": 13,
   "metadata": {},
   "outputs": [
    {
     "name": "stdout",
     "output_type": "stream",
     "text": [
      "Read sequence from file:\n",
      "ID: NC_000023\n",
      "Description: NC_000023\n",
      "Sequence: AAGTGCTTGGGGCGGCGAGCATGGCGGCAGCGGCTGCAGGCCTGGGCGGCGGCGGCGCCGGCCCGGGACCCGAGGCCGGGGACTTCCTGGCCCGCTACCGGCTGGTATCGAACAAGCTGAAGAAGCGGTTCCTGCGGAAGCCGAACGTGGCGGAGGCCGGCGAGCAGTTCGGACAGCTGGGCCGGGAGCTGCGCGCCCAGGAGTGTCTGCCCTACGCGGCCTGGTGCCAGCTGGCGGTGGCGCGCTGCCAGCAGGCGCTCTTCCACGGGCCCGGGGAGGCGCTGGCCCTCACCGAGGCCGCCCGCCTCTTCCTGCGGCAGGAGCGCGACGCGCGCCAGCGCCTGGTCTGCCCCGCCGCCTACGGGGAGCCGCTGCAGGCCGCCGCCAGCGCCCTGGGCGCCGCGGTGCGTCTGCACCTCGAGCTGGGCCAGCCGGCCGCCGCCGCCGCCCTCTGCCTCGAGCTGGCCGCCGCCCTGCGCGACCTGGGCCAGCCGGCCGCCGCCGCCGGTCACTTCCAGCGCGCCGCCCAGCTCCAGCTGCCCCAGCTGCCCCTGGCCGCGCTGCAGGCGCTTGGCGAGGCCGCCTCCTGCCAGCTGCTGGCGCGCGACTACACCGGCGCCCTGGCGGTCTTCACGCGCATGCAGCGCCTGGCGCGGGAGCACGGCAGCCACCCGGTGCAGTCACTGCCGCCGCCCCCGCCGCCGGCACCCCAGCCCGGGCCCGGGGCGACGCCCGCCCTACCGGCCGCGCTGCTTCCTCCGAACTCCGGCTCGGCGGCGCCCTCTCCCGCCGCCCTGGGCGCCTTCTCGGACGTGCTGGTCCGCTGCGAGGTGTCCCGCGTGCTGCTGCTGCTCCTCCTGCAACCACCGCCCGCCAAGCTGCTGCCGGAGCACGCCCAGACCCTGGAGAAGTACTCCTGGGAGGCTTTTGACAGCCACGGGCAGGAGAGCAGCGGCCAGCTTCCCGAGGAGCTCTTTCTGCTGCTCCAGTCTTTGGTCATGGCTACCCACGAAAAGGACACGGAAGCCATCAAGTCGCTGCAGGTGGAGATGTGGCCACTGTTGACTGCTGAGCAGAACCACCTCCTTCACCTCGTTCTGCAAGAAACCATCTCCCCCTCAGGACAGGGAGTCTGATCCATCCCATTCACCCAGTGACTTCTTTTTGCCCAGGCCTGGACTTTTTGCATCAGTCACGTTAACCAGATGACTTTGCCTGTTACCAAACCTCATGCATCCACGTTTGCGTCTGGGGAGGAATAAAAAGACATCGTTCCCGCTTCTGCGTTTTGTTATTCCTACTGCCGCCATAGGAATTATTTCGTTGGCTGAACGTTACCAGCACCCCGAGAACACATTTTGATAGAATCAGAGTAGAGGACATGGCTGTCTTCTAAAAAGCCACGACATGAAAATGACAATCCCTTTCGTCTCCTTCCTCCGCTGCTTCCACCTAACGCAGCCTCCTGCCTCCGCCTTTGTTTCATAGTGAGGATTTTATTTTGCACGGCGCCCTCCCTCTAAATACCTACCCTAGATGATTTCATCCTGCCCCTCACTTCTTAACATATTCCTGTGTCTTTGTAATGGCCAAATTTCTCCTTCCACTCGTCCGCACGGTACGTCTTCATGGGAGTCATTTTATTCCTTACAGCTTCCTTGTAACCACAGCCCTAAATCCATGATAAAGCTACTCTTGTACTCCTCA\n",
      "Read sequence from file:\n",
      "ID: NC_000023_random\n",
      "Description: NC_000023_random\n",
      "Sequence: AAGTGCTTGGGGCGGCGAGCATGGCGGCAGCGGCTGCAGGCCTGGGCGGCGGCGGCGCCGGCCCGGGACCCGAGGCCGGGGACTTCCTGGCCCGCTACCGGCTGGTATCGAACAAGCTGAAGAAGCGGTTCCTGCGGAAGCCGAACGTGGCGGAGGCCGGCGAGCAGTTCGGACAGCTGGGCCGGGAGCTGCGCGCCCAGGAGTGTCTGCCCTACGCGGCCTGGATTTTTTTGCCAGCTGGCGGTGGCGCGCTGCCAGCAGGCGGGGGGCCTCTTCCACGGGCCCGGGGAGGCGCTGGCCCTCACCGAGGCCGCCCGCCTCTTCCTGCGGCAGGAGCGCGACGCGCGCCAGCGCCTGGTCTGCCCCGCCGCCTACGGGGAGCCGCTGCAGGCCGCCGCCAGCGCCCTGGGCGCCGCGGTGCGTCTGCACCTCGAGCTGGGCCAGCCGGCCGCCGCCGCCGCCCTCTGCCTCGAGCTGGCCGCCGCCCTGCGCGACCTGGGCCAGCCGGCCGCCGCCGCCGGTCACTTCCAGCGCGCCGCCCAGCTCCAGCTGCCCCAGCTGCCCCTGGCCGCGCTGCAGGCGCTTGGCGAGGCCGCCTCCTGCCAGCTGCTGGCGCGCGACTACACCGGCGCCCTGGCGGTCTTCACGCGCATGCAGCGCCTGGCGCGGGAGCACAAATTGGCAGCCACCCGGTGCAGTCACTGCCGCCGCCCCCGCCGCCGGCACCCCAGCCCGGGCCCGGGGCGACGCCCGCCCTACCGGCCGCGCTGTCGGCGGCGCCCTCTCCCGCCGCCCTGGGCGCCTTCTCGGACGTGCTGGTCCGCTGCGAGGTGTCCCGCGTGCTGCTGCTGCTCCTCCTGCAACCACCGCCCGCCAAGCTGCTGCCGGAGCACGCCCAGACCCTGGAGAAGTACTCCTGGGAGGCTTTTGACAGCCACGGGCAGGAGAGCAGCGGCCAGCTTCCCGAGGAGCTCTTTCTGCTGCTCCAGTCTTTGGTCATGGCTACCCACGAAAAGGACACGGAAGCCATCAAGTCGCTGCAGGTGGAGATGTGGCCACTGTTGACTGCTGAGCAGGGTTTCCGAACCACCTCCTTCACCTCGTTCTGCAAGAAACCATCTCCCCCTCAGGACAGGGAGTCTGATCCATCCCATTCACCCAGTGACTTCTTTTTGCCCAGGCCTGGACTTAGTCACGTTAACCAGATGACTTTGCCTGTTACCAAACCTCATGCATCCACGTTTGCGTCTGGGGAGGAATAAAAAGACATCGTTCCCGCTTCTGCGTTTTGTTATTCCTACTGCCGCCATAGGAATTATTTCGTTGGCTGAACGTTACCAGCACCCCGAGAACACATTTTGATAGAATCAGAGTAGAGGACATGGCTGTCTTCTAAAAAGCCACGACATGAAAATGACAATCCCTTTCGTCTCCTTCCAAAAAAACCCTCCCCCGCTGCTTCCACCTAACGCAGCCTCCTGCCTCCGCCTTTGTTTCATAGTGAGGATTTTATTTTGCACGGCGCCCTCCCTCTAAATACCTACCCTAGATGTTTCATCCTGCCCCTCACTTCTTAACATATTCCTGTGTCTTTGTAATGGCCAAATTTCTCCTTCACTCGTCCGCACGGTACGTCTTCATGGGAGTCATTTTATTCCTTACAGCTTCCTTGTAACCACAGCCCTAAATCCATATAAAGCTACTCTTTACTCCTCA\n"
     ]
    }
   ],
   "source": [
    "fasta_sequences = SeqIO.parse(r\"D:\\HSE\\BioinformaticsCourse2024\\homework\\1_1\\data\\f8.fasta\", \"fasta\")\n",
    "f8_sequences = []\n",
    "for record in fasta_sequences.records:\n",
    "    print(\"Read sequence from file:\")\n",
    "    print(\"ID:\", record.id)\n",
    "    print(\"Description:\", record.description)\n",
    "    print(\"Sequence:\", record.seq)\n",
    "    f8_sequences.append(record.seq)"
   ]
  },
  {
   "cell_type": "markdown",
   "metadata": {},
   "source": [
    "# Хэмминг\n",
    "Реализуйте вычисление расстояния Хэмминга."
   ]
  },
  {
   "cell_type": "code",
   "execution_count": 14,
   "metadata": {},
   "outputs": [],
   "source": [
    "def hamming_distance(seq1, seq2):\n",
    "    distance = 0\n",
    "    for i in range(len(seq1)):\n",
    "        if seq1[i] != seq2[i]:\n",
    "            distance += 1\n",
    "    return distance"
   ]
  },
  {
   "cell_type": "code",
   "execution_count": 20,
   "metadata": {},
   "outputs": [
    {
     "name": "stdout",
     "output_type": "stream",
     "text": [
      "My solution:  2\n",
      "Test of my solution:  2\n"
     ]
    }
   ],
   "source": [
    "seq1, seq2 = gattaca_sequences\n",
    "print('My solution: ', hamming_distance(seq1, seq2))\n",
    "print('Test of my solution: ', distance.hamming(str(seq1), str(seq2)))"
   ]
  },
  {
   "cell_type": "markdown",
   "metadata": {},
   "source": [
    "# Ближайшая подстрока\n",
    "Даны 2 строки над алфавитом ATGC, реализуйте алгоритм, который позволит находить подстроку в более длинной строке, которая ближе всего по расстоянию Хэминга к боллее короткой. Верните позицию начала этой подстроки, саму подстроку и рассстояние хэмминга."
   ]
  },
  {
   "cell_type": "code",
   "execution_count": 25,
   "metadata": {},
   "outputs": [],
   "source": [
    "def subsequence_search(subseq, seq):\n",
    "    subseq_len = len(subseq)\n",
    "    seq_len = len(seq)\n",
    "    min_hamming_dist = 10e6\n",
    "    start_pos = 0\n",
    "    closest_subseq = ''\n",
    "    for i in range(seq_len - subseq_len + 1):\n",
    "        pattern  = seq[i:i+subseq_len]\n",
    "        distance = hamming_distance(pattern, subseq) \n",
    "        if distance < min_hamming_dist:\n",
    "            min_hamming_dist = distance\n",
    "            start_pos = i\n",
    "            closest_subseq = pattern\n",
    "    return start_pos, closest_subseq, min_hamming_dist\n",
    "        "
   ]
  },
  {
   "cell_type": "code",
   "execution_count": 26,
   "metadata": {},
   "outputs": [
    {
     "name": "stdout",
     "output_type": "stream",
     "text": [
      "GATTACA (605, Seq('GACTACA'), 1)\n",
      "GATTACA (618, Seq('GACTACA'), 1)\n",
      "CATTAGA (924, Seq('CTTTTGA'), 2)\n",
      "CATTAGA (924, Seq('CTTTTGA'), 2)\n"
     ]
    }
   ],
   "source": [
    "seq1, seq2 = gattaca_sequences[0], f8_sequences[0]\n",
    "print(seq1, subsequence_search(seq1, seq2))\n",
    "\n",
    "seq1, seq2 = gattaca_sequences[0], f8_sequences[1]\n",
    "print(seq1, subsequence_search(seq1, seq2))\n",
    "\n",
    "seq1, seq2 = gattaca_sequences[1], f8_sequences[0]\n",
    "print(seq1, subsequence_search(seq1, seq2))\n",
    "\n",
    "seq1, seq2 = gattaca_sequences[1], f8_sequences[1]\n",
    "print(seq1, subsequence_search(seq1, seq2))"
   ]
  },
  {
   "cell_type": "markdown",
   "metadata": {},
   "source": [
    "# Левенштейн\n",
    "Реализуйте алгоритм вычисления расстояния редактирования. O(n•m) по времени и O(min(n, m)) по памяти (обратите внимание на то, что возвращать способ получения из одной строки другую не нужно). Алгоритм возвращаеет одно число - расстояние редактирования между входными строками."
   ]
  },
  {
   "cell_type": "code",
   "execution_count": 50,
   "metadata": {},
   "outputs": [],
   "source": [
    "def levenstein_distance(seq1, seq2):\n",
    "    n = len(seq1)\n",
    "    m = len(seq2)\n",
    "    if m > n:\n",
    "        n, m = m, n\n",
    "        seq1, seq2 = seq2, seq1\n",
    "    dp = [[0 for _ in range(m+1)] for _ in range(2)]\n",
    "    for i in range(1, m+1):\n",
    "        dp[0][i] = dp[0][i-1] + 1\n",
    "    for i in range(1, n+1):\n",
    "        dp[1][0] = dp[0][0] + 1\n",
    "        for j in range(1, m+1):\n",
    "            dp[1][j] = min(\n",
    "                dp[0][j] + 1,\n",
    "                dp[1][j-1] + 1,\n",
    "                dp[0][j-1] + (seq1[i-1] != seq2[j-1])\n",
    "            )\n",
    "        dp[0], dp[1] = dp[1], dp[0]\n",
    "    return dp[0][m]\n"
   ]
  },
  {
   "cell_type": "code",
   "execution_count": 55,
   "metadata": {},
   "outputs": [
    {
     "name": "stdout",
     "output_type": "stream",
     "text": [
      "My solution:  2\n",
      "Test of my solution:  2\n",
      "My solution:  69\n",
      "Test of my solution:  69\n",
      "My solution:  1700\n",
      "Test of my solution:  1700\n"
     ]
    }
   ],
   "source": [
    "seq1, seq2 = gattaca_sequences\n",
    "print('My solution: ', levenstein_distance(seq1, seq2))\n",
    "print('Test of my solution: ', distance.levenshtein(str(seq1), str(seq2)))\n",
    "\n",
    "seq1, seq2 = f8_sequences\n",
    "print('My solution: ', levenstein_distance(seq1, seq2))\n",
    "print('Test of my solution: ', distance.levenshtein(str(seq1), str(seq2)))\n",
    "\n",
    "seq1, seq2 = gattaca_sequences[0], f8_sequences[0]\n",
    "\n",
    "print('My solution: ', levenstein_distance(seq1, seq2))\n",
    "print('Test of my solution: ', distance.levenshtein(str(seq1), str(seq2)))"
   ]
  },
  {
   "cell_type": "code",
   "execution_count": null,
   "metadata": {},
   "outputs": [],
   "source": []
  }
 ],
 "metadata": {
  "kernelspec": {
   "display_name": ".general",
   "language": "python",
   "name": "python3"
  },
  "language_info": {
   "codemirror_mode": {
    "name": "ipython",
    "version": 3
   },
   "file_extension": ".py",
   "mimetype": "text/x-python",
   "name": "python",
   "nbconvert_exporter": "python",
   "pygments_lexer": "ipython3",
   "version": "3.11.5"
  }
 },
 "nbformat": 4,
 "nbformat_minor": 2
}
