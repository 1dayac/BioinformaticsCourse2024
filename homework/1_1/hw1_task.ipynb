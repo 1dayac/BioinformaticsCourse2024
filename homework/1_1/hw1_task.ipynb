{
 "cells": [
  {
   "cell_type": "markdown",
   "id": "7481e9c7-bb58-42eb-988d-e09e5a9f5015",
   "metadata": {},
   "source": [
    "# Homework 1"
   ]
  },
  {
   "cell_type": "code",
   "execution_count": 10,
   "id": "a256a645-c1d0-4128-a3e8-06454a53e61a",
   "metadata": {},
   "outputs": [],
   "source": [
    "from Bio import SeqIO"
   ]
  },
  {
   "cell_type": "code",
   "execution_count": 42,
   "id": "d3d858fb-c0b8-430b-8914-a82c56d38622",
   "metadata": {},
   "outputs": [],
   "source": [
    "f8_path = \"data/f8.fasta\"\n",
    "gattaca_path = \"data/gattaca.fasta\"\n",
    "\n",
    "# with open(\"data/f8.fasta\", \"r\") as file:"
   ]
  },
  {
   "cell_type": "code",
   "execution_count": 43,
   "id": "e0b8e20e-016b-4b90-baef-b2690c998d25",
   "metadata": {},
   "outputs": [],
   "source": [
    "f8_seq = []\n",
    "f8 = SeqIO.parse(f8_path, \"fasta\")\n",
    "for record in f8.records:\n",
    "    f8_seq.append(str(record.seq))\n",
    "    \n",
    "gattaca = SeqIO.parse(gattaca_path, \"fasta\")\n",
    "gattaca_seq = []\n",
    "for record in gattaca.records:\n",
    "    gattaca_seq.append(str(record.seq))"
   ]
  },
  {
   "cell_type": "code",
   "execution_count": 45,
   "id": "912f3b87-4bf7-4182-aa99-ed67cf395f21",
   "metadata": {},
   "outputs": [
    {
     "data": {
      "text/plain": [
       "['GATTACA', 'CATTAGA']"
      ]
     },
     "execution_count": 45,
     "metadata": {},
     "output_type": "execute_result"
    }
   ],
   "source": [
    "gattaca_seq"
   ]
  },
  {
   "cell_type": "code",
   "execution_count": 47,
   "id": "bafcd202-fb10-4f5c-9b0a-4d531ae207d1",
   "metadata": {},
   "outputs": [],
   "source": [
    "def hamming_dist(str_a, str_b):\n",
    "    # iterate over strings and count if the elements are different\n",
    "    return sum(str_a[i] != str_b[i] for i in range(len(str_a)))\n",
    "\n",
    "\n",
    "def closest_match(key_str, search_str):\n",
    "    result = len(key_str)\n",
    "    pos = None\n",
    "    # iterate over string and count hamming dist for each position\n",
    "    for i in range(len(search_str)-len(key_str)+1):\n",
    "        h_dist = hamming_dist(key_str, search_str[i:i+len(key_str)])\n",
    "        # update result and position if h_dist is smaller\n",
    "        if h_dist < result:\n",
    "            result = h_dist\n",
    "            pos = i\n",
    "    if pos is not None:\n",
    "        return pos, search_str[pos:pos+len(key_str)], result\n",
    "    else:\n",
    "        return None, None, None\n",
    "\n",
    "\n",
    "def levenshtein_dist(str_a, str_b):\n",
    "    # assume str_a is shorter, swap them if not\n",
    "    if len(str_a) > len(str_b):\n",
    "        str_a, str_b = str_b, str_a\n",
    "\n",
    "    # create a list with length of the shortest string and fill it with seq\n",
    "    # from 0 to length\n",
    "    dp_line = [i for i in range(len(str_a)+1)]\n",
    "\n",
    "    # outer loop over the longest string\n",
    "    for i in range(1, len(str_b)+1):\n",
    "        # create current value as we need to compare 3 elements,\n",
    "        # 2 of them are in the same line in dp_line list.\n",
    "        # Remaining is in the cur_val, for the beginning of the string\n",
    "        # it equals the index\n",
    "        cur_val = i\n",
    "        for j in range(1, len(str_a)+1):\n",
    "\n",
    "            # if elements of the strings are the same set param to 0, else 1\n",
    "            if str_a[j - 1] == str_b[i - 1]:\n",
    "                param = 0\n",
    "            else:\n",
    "                param = 1\n",
    "\n",
    "            # choose the minimum and assign it to new_val\n",
    "            new_val = min(dp_line[j] + 1, cur_val, dp_line[j-1] + param)\n",
    "\n",
    "            # we can update the previous element in dp_line as we don't\n",
    "            # need it anymore for next calculations\n",
    "            dp_line[j-1] = cur_val\n",
    "            # update cur_val\n",
    "            cur_val = new_val\n",
    "\n",
    "        # finally, after inner loop update the last element of dp_line\n",
    "        dp_line[-1] = cur_val\n",
    "\n",
    "    return dp_line[-1]\n"
   ]
  },
  {
   "cell_type": "markdown",
   "id": "bae9e2d5-dc18-456a-9bb8-0584214ed70f",
   "metadata": {},
   "source": [
    "# Test"
   ]
  },
  {
   "cell_type": "code",
   "execution_count": 53,
   "id": "5b804457-8cc5-46b2-8bb0-af98960fd37c",
   "metadata": {},
   "outputs": [
    {
     "name": "stdout",
     "output_type": "stream",
     "text": [
      "2\n",
      "637\n"
     ]
    }
   ],
   "source": [
    "print(hamming_dist(gattaca_seq[0], gattaca_seq[1]))\n",
    "print(hamming_dist(f8_seq[0], f8_seq[1]))"
   ]
  },
  {
   "cell_type": "code",
   "execution_count": 54,
   "id": "b28748bb-5c7d-412c-b89f-594c20a113f6",
   "metadata": {},
   "outputs": [
    {
     "name": "stdout",
     "output_type": "stream",
     "text": [
      "2\n",
      "39\n"
     ]
    }
   ],
   "source": [
    "print(levenshtein_dist(gattaca_seq[0], gattaca_seq[1]))\n",
    "print(levenshtein_dist(f8_seq[0], f8_seq[1]))"
   ]
  },
  {
   "cell_type": "code",
   "execution_count": 52,
   "id": "de89fc31-8d24-45a8-ab17-3f3ecd91c0f7",
   "metadata": {},
   "outputs": [
    {
     "name": "stdout",
     "output_type": "stream",
     "text": [
      "GATTACA\n",
      "(618, 'GACTACA', 1)\n",
      "(605, 'GACTACA', 1)\n",
      "CATTAGA\n",
      "(924, 'CTTTTGA', 2)\n",
      "(924, 'CTTTTGA', 2)\n"
     ]
    }
   ],
   "source": [
    "print(gattaca_seq[0])\n",
    "print(closest_match(gattaca_seq[0], f8_seq[1]))\n",
    "print(closest_match(gattaca_seq[0], f8_seq[0]))\n",
    "print(gattaca_seq[1])\n",
    "print(closest_match(gattaca_seq[1], f8_seq[1]))\n",
    "print(closest_match(gattaca_seq[1], f8_seq[0]))"
   ]
  },
  {
   "cell_type": "code",
   "execution_count": null,
   "id": "48334944-aebf-4de4-baae-5c5d6427607a",
   "metadata": {},
   "outputs": [],
   "source": []
  }
 ],
 "metadata": {
  "kernelspec": {
   "display_name": "Python 3 (ipykernel)",
   "language": "python",
   "name": "python3"
  },
  "language_info": {
   "codemirror_mode": {
    "name": "ipython",
    "version": 3
   },
   "file_extension": ".py",
   "mimetype": "text/x-python",
   "name": "python",
   "nbconvert_exporter": "python",
   "pygments_lexer": "ipython3",
   "version": "3.10.13"
  }
 },
 "nbformat": 4,
 "nbformat_minor": 5
}
