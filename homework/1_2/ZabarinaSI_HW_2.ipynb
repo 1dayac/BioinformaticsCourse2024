{
  "nbformat": 4,
  "nbformat_minor": 0,
  "metadata": {
    "colab": {
      "provenance": [],
      "toc_visible": true
    },
    "kernelspec": {
      "name": "python3",
      "display_name": "Python 3"
    },
    "language_info": {
      "name": "python"
    }
  },
  "cells": [
    {
      "cell_type": "code",
      "source": [
        "!pip install biopython"
      ],
      "metadata": {
        "colab": {
          "base_uri": "https://localhost:8080/"
        },
        "id": "JyeN-trSYhtc",
        "outputId": "0c8a1806-931d-4db1-9c6a-0ce81518dba4"
      },
      "execution_count": null,
      "outputs": [
        {
          "output_type": "stream",
          "name": "stdout",
          "text": [
            "Collecting biopython\n",
            "  Downloading biopython-1.83-cp310-cp310-manylinux_2_17_x86_64.manylinux2014_x86_64.whl (3.1 MB)\n",
            "\u001b[2K     \u001b[90m━━━━━━━━━━━━━━━━━━━━━━━━━━━━━━━━━━━━━━━━\u001b[0m \u001b[32m3.1/3.1 MB\u001b[0m \u001b[31m11.6 MB/s\u001b[0m eta \u001b[36m0:00:00\u001b[0m\n",
            "\u001b[?25hRequirement already satisfied: numpy in /usr/local/lib/python3.10/dist-packages (from biopython) (1.25.2)\n",
            "Installing collected packages: biopython\n",
            "Successfully installed biopython-1.83\n"
          ]
        }
      ]
    },
    {
      "cell_type": "code",
      "source": [
        "from Bio.Align import substitution_matrices\n",
        "from Bio import pairwise2\n",
        "from Bio.pairwise2 import format_alignment\n",
        "import numpy as np"
      ],
      "metadata": {
        "id": "Yqgfg2fMYmk1",
        "colab": {
          "base_uri": "https://localhost:8080/"
        },
        "outputId": "a0958dbb-fd7a-4b5c-a73f-8f635617fbf3"
      },
      "execution_count": null,
      "outputs": [
        {
          "output_type": "stream",
          "name": "stderr",
          "text": [
            "/usr/local/lib/python3.10/dist-packages/Bio/pairwise2.py:278: BiopythonDeprecationWarning: Bio.pairwise2 has been deprecated, and we intend to remove it in a future release of Biopython. As an alternative, please consider using Bio.Align.PairwiseAligner as a replacement, and contact the Biopython developers if you still need the Bio.pairwise2 module.\n",
            "  warnings.warn(\n"
          ]
        }
      ]
    },
    {
      "cell_type": "code",
      "source": [
        "matrix = substitution_matrices.load('BLOSUM62')\n",
        "matrix.alphabet\n"
      ],
      "metadata": {
        "colab": {
          "base_uri": "https://localhost:8080/",
          "height": 35
        },
        "id": "0V4dZ6LqZQIH",
        "outputId": "6cbf8b0b-fa55-40dc-fb22-fc9c1e35d0da"
      },
      "execution_count": null,
      "outputs": [
        {
          "output_type": "execute_result",
          "data": {
            "text/plain": [
              "'ARNDCQEGHILKMFPSTWYVBZX*'"
            ],
            "application/vnd.google.colaboratory.intrinsic+json": {
              "type": "string"
            }
          },
          "metadata": {},
          "execution_count": 3
        }
      ]
    },
    {
      "cell_type": "markdown",
      "source": [
        "#Нидлман Вунш (3 балла)"
      ],
      "metadata": {
        "id": "jhfA-8H9Q58I"
      }
    },
    {
      "cell_type": "markdown",
      "source": [
        "\n",
        "Реализуйте алгоритм Нидлмана Вунша для выравнивания последовательностеей. На вход принимается две строки, матрица замен и стоимость гэпа. В результате верните оптимальное выравнивание и его вес. При проверке помните, что оптимальных выравниваний может быть несколько, но вес у них должен совпадать."
      ],
      "metadata": {
        "id": "wJZPSB00Qo_5"
      }
    },
    {
      "cell_type": "code",
      "source": [
        "def Needleman_Wunsch(s1, s2, matrix, gap_w):\n",
        "\n",
        "    # Для быстрой работы с матрицей весов в формате как у 'BLOSUM62'\n",
        "    # занесем alphabet в словарь alfab\n",
        "\n",
        "    alfab = {char: i for i, char in enumerate(matrix.alphabet)}\n",
        "    n, m = len(s1), len(s2)\n",
        "    dp = np.vstack([np.array([0+i*gap_w for i in range(n+1)]), np.zeros((m, n+1))])\n",
        "    vector = np.zeros((m+1, n+1))\n",
        "    vector[:, 0] = 1\n",
        "    vector[0] = 2\n",
        "    for i in range(1, m+1):\n",
        "      dp[i, 0] = dp[i-1, 0] + gap_w\n",
        "      for j in range(1, n+1):\n",
        "          a, b = alfab[s2[i-1]], alfab[s1[j-1]]\n",
        "          dp[i][j] = max(dp[i-1, j] + gap_w,\n",
        "                         dp[i, j-1] + gap_w,\n",
        "                         dp[i-1, j-1] + matrix[a][b])\n",
        "          if dp[i, j] == dp[i-1, j] + gap_w:\n",
        "                vector[i, j] = 1  # up\n",
        "          elif dp[i, j] == dp[i, j-1] + gap_w:\n",
        "                vector[i, j] = 2  # left\n",
        "          else:\n",
        "                vector[i, j] = 0  # giag\n",
        "\n",
        "\n",
        "    aligned_s1 = []\n",
        "    aligned_s2 = []\n",
        "    view = []\n",
        "    i, j = m, n\n",
        "    while i > 0 or j > 0:\n",
        "        if vector[i, j] == 0:\n",
        "            aligned_s2.append(s2[i-1])\n",
        "            aligned_s1.append(s1[j-1])\n",
        "            if s2[i-1] == s1[j-1]:\n",
        "                view += '|'\n",
        "            else:\n",
        "                view += '.'\n",
        "            i -= 1\n",
        "            j -= 1\n",
        "        elif vector[i, j] == 1:\n",
        "            aligned_s2.append(s2[i-1])\n",
        "            aligned_s1.append('-')\n",
        "            view += ' '\n",
        "            i -= 1\n",
        "        else:\n",
        "            aligned_s2.append('-')\n",
        "            aligned_s1.append(s1[j-1])\n",
        "            view += ' '\n",
        "            j -= 1\n",
        "    aligned_s1.reverse()\n",
        "    aligned_s2.reverse()\n",
        "    return (aligned_s1, aligned_s2, view[::-1]), dp[-1, -1]"
      ],
      "metadata": {
        "id": "_c1ooMW4Q069"
      },
      "execution_count": 118,
      "outputs": []
    },
    {
      "cell_type": "markdown",
      "source": [
        "Проверка:"
      ],
      "metadata": {
        "id": "B0P36iyOB0uG"
      }
    },
    {
      "cell_type": "code",
      "source": [
        "gap_penalty = -3\n",
        "substitution_matrix = substitution_matrices.load(\"BLOSUM62\")\n",
        "\n",
        "seq1 = \"ACGTAZWEDFDDD\"\n",
        "seq2 = \"ACTTAADFQQ\""
      ],
      "metadata": {
        "id": "fWzqye4AHdRB"
      },
      "execution_count": 119,
      "outputs": []
    },
    {
      "cell_type": "code",
      "source": [
        "alignments = alignments = pairwise2.align.globalds(seq1, seq2, substitution_matrix, gap_penalty, gap_penalty)\n",
        "\n",
        "print(format_alignment(*alignments[0]))"
      ],
      "metadata": {
        "colab": {
          "base_uri": "https://localhost:8080/"
        },
        "id": "0BXgnG1EB3HM",
        "outputId": "d04a2771-bc2e-44c6-f71f-2bd5f5d475b0"
      },
      "execution_count": 120,
      "outputs": [
        {
          "output_type": "stream",
          "name": "stdout",
          "text": [
            "ACGTAZWEDFDDD\n",
            "||.||  .|| ..\n",
            "ACTTA--ADF-QQ\n",
            "  Score=22\n",
            "\n"
          ]
        }
      ]
    },
    {
      "cell_type": "code",
      "source": [
        "(s1, s2, v), score = Needleman_Wunsch(seq1, seq2, substitution_matrix, gap_penalty)\n",
        "print(*s1, sep='')\n",
        "print(*v, sep='')\n",
        "print(*s2, sep='')\n",
        "print('Score=', int(score))\n"
      ],
      "metadata": {
        "colab": {
          "base_uri": "https://localhost:8080/"
        },
        "id": "foYJYi8uHmD0",
        "outputId": "560594c3-9632-4067-c6d8-2367daba9550"
      },
      "execution_count": 121,
      "outputs": [
        {
          "output_type": "stream",
          "name": "stdout",
          "text": [
            "ACGTAZWEDFDDD\n",
            "||.||.  ||.. \n",
            "ACTTAA--DFQQ-\n",
            "Score= 22\n"
          ]
        }
      ]
    },
    {
      "cell_type": "markdown",
      "source": [
        "#Афинные гэпы (4 балла)"
      ],
      "metadata": {
        "id": "WIZ_yrC4Q3TQ"
      }
    },
    {
      "cell_type": "markdown",
      "source": [
        "Афинные гэпы (4 балла)\n",
        "Реализуйте выравнивание с афинными гэпами, алгоритм на вход принимает две строки, матрицу замен, штраф за начало гэпа α, и за его продолжение β. В результате возвращает выравнивание и его вес. Сложность алгоритма квадратичная по памяти и по времени."
      ],
      "metadata": {
        "id": "oJH4AXi-Q_19"
      }
    },
    {
      "cell_type": "code",
      "source": [
        "def Affine_gap(s1, s2, matrix, alpha, beta):\n",
        "\n",
        "    # Для быстрой работы с матрицей весов в формате как у 'BLOSUM62'\n",
        "    # занесем alphabet в словарь alfab\n",
        "\n",
        "    alfab = {char: i for i, char in enumerate(matrix.alphabet)}\n",
        "    n, m = len(s1), len(s2)\n",
        "\n",
        "    # Начальные условия для динамики\n",
        "    dp = np.vstack([np.array([0]+[alpha + (i-1)*beta for i in range(1, n+1)]), np.zeros((m, n+1))])\n",
        "    #dp = np.zeros((m+1, n+1))\n",
        "    gap_v = np.zeros((m+1, n+1))\n",
        "    gap_v[1:, 0] = [alpha + (i-1)*beta for i in range(1, m+1)]\n",
        "    gap_h = np.zeros((m+1, n+1))\n",
        "    gap_h[0, 1:] =  [alpha + (i-1)*beta for i in range(1, n+1)]\n",
        "\n",
        "    for i in range(1, m+1):\n",
        "      dp[i, 0] = alpha + (i-1)*beta\n",
        "      for j in range(1, n+1):\n",
        "          a, b = alfab[s2[i-1]], alfab[s1[j-1]]\n",
        "          # gap_v[i][j] = max(gap_v[i-1][j] + beta, dp[i-1][j] + alpha )\n",
        "          # gap_h[i][j] = max(gap_h[i][j-1] + beta, dp[i][j-1] + alpha )\n",
        "\n",
        "          gap_v[i][j] = max(gap_v[i][j-1] + beta, dp[i][j-1] + alpha )\n",
        "          gap_h[i][j] = max(gap_h[i-1][j] + beta, dp[i-1][j] + alpha )\n",
        "          mat = dp[i-1][j-1] + matrix[a][b]\n",
        "\n",
        "          dp[i][j] = max(mat, gap_v[i][j], gap_h[i][j])\n",
        "\n",
        "\n",
        "    align1 = \"\"\n",
        "    align2 = \"\"\n",
        "    view = \"\"\n",
        "    i, j = m, n\n",
        "\n",
        "    while i > 0 or j > 0:\n",
        "        if i > 0 and dp[i][j] == gap_v[i][j]:\n",
        "            align2 = s2[i-1] + align2\n",
        "            align1 = \"-\" + align1\n",
        "            view = ' ' + view\n",
        "            i -= 1\n",
        "        elif i > 0 and j > 0 and dp[i][j] == dp[i-1][j-1] + matrix[s2[i-1]][s1[j-1]]:\n",
        "            align2 = s2[i-1] + align2\n",
        "            align1 = s1[j-1] + align1\n",
        "            if s2[i-1] == s1[j-1]:\n",
        "                view = '|' + view\n",
        "            else:\n",
        "                view = '.' + view\n",
        "            i -= 1\n",
        "            j -= 1\n",
        "        else:\n",
        "            align2 = \"-\" + align2\n",
        "            align1 = s1[j-1] + align1\n",
        "            view = ' ' + view\n",
        "            j -= 1\n",
        "    #print(dp)\n",
        "    # print(gap_v)\n",
        "    # print(gap_h)\n",
        "    return (align1, align2, view), dp[-1, -1]\n",
        "\n"
      ],
      "metadata": {
        "id": "LMwR6ZAKUsLL"
      },
      "execution_count": null,
      "outputs": []
    },
    {
      "cell_type": "markdown",
      "source": [
        "Проверка"
      ],
      "metadata": {
        "id": "_14E-8dNiwvJ"
      }
    },
    {
      "cell_type": "code",
      "source": [
        "seq1 = \"MMMFRERRRY\"\n",
        "seq2 = \"MNFRY\"\n",
        "\n",
        "alpha, beta = -10, -1\n",
        "substitution_matrix = substitution_matrices.load(\"BLOSUM62\")"
      ],
      "metadata": {
        "id": "xaIrL1fwiykW"
      },
      "execution_count": null,
      "outputs": []
    },
    {
      "cell_type": "code",
      "source": [
        "alignments = pairwise2.align.globalds(seq1, seq2, substitution_matrix, alpha, beta)\n",
        "print(format_alignment(*alignments[0]))"
      ],
      "metadata": {
        "colab": {
          "base_uri": "https://localhost:8080/"
        },
        "id": "9XdlMqX0iyqY",
        "outputId": "a693733f-26f9-4f15-8c5c-55b44690dc4f"
      },
      "execution_count": null,
      "outputs": [
        {
          "output_type": "stream",
          "name": "stdout",
          "text": [
            "MMMFRERRRY\n",
            "|..     ||\n",
            "MNF-----RY\n",
            "  Score=1\n",
            "\n"
          ]
        }
      ]
    },
    {
      "cell_type": "code",
      "source": [
        "(s1, s2, v), score = Affine_gap(seq1, seq2, substitution_matrix, alpha, beta)\n",
        "print(*s1, sep='')\n",
        "print(*v, sep='')\n",
        "print(*s2, sep='')\n",
        "print('Score=', int(score))"
      ],
      "metadata": {
        "colab": {
          "base_uri": "https://localhost:8080/"
        },
        "id": "EsGNcVTUiy0p",
        "outputId": "ae75f3cf-b7c7-4412-ce96-54f8dc1d34a6"
      },
      "execution_count": null,
      "outputs": [
        {
          "output_type": "stream",
          "name": "stdout",
          "text": [
            "MMMFRER-R-RY\n",
            "        . ||\n",
            "-------MNFRY\n",
            "Score= 1\n"
          ]
        }
      ]
    },
    {
      "cell_type": "code",
      "source": [
        "seq1='GATTACA'\n",
        "seq2= 'CATTAGA'\n",
        "alpha, beta = -10, -0.5"
      ],
      "metadata": {
        "id": "ID2-6yCGzf4-"
      },
      "execution_count": null,
      "outputs": []
    },
    {
      "cell_type": "code",
      "source": [
        "alignments = pairwise2.align.globalds(seq1, seq2, substitution_matrix, alpha, beta)\n",
        "print(format_alignment(*alignments[0]))"
      ],
      "metadata": {
        "colab": {
          "base_uri": "https://localhost:8080/"
        },
        "id": "YF8tp5-fyW-9",
        "outputId": "bbe921eb-c236-4d45-b530-5252f3db0e16"
      },
      "execution_count": null,
      "outputs": [
        {
          "output_type": "stream",
          "name": "stdout",
          "text": [
            "GATTACA\n",
            ".||||.|\n",
            "CATTAGA\n",
            "  Score=16\n",
            "\n"
          ]
        }
      ]
    },
    {
      "cell_type": "code",
      "source": [
        "(s1, s2, v), score = Affine_gap(seq1, seq2, substitution_matrix, alpha, beta)\n",
        "print(*s1, sep='')\n",
        "print(*v, sep='')\n",
        "print(*s2, sep='')\n",
        "print('Score=', int(score))"
      ],
      "metadata": {
        "colab": {
          "base_uri": "https://localhost:8080/"
        },
        "id": "SCuf-SyByZGk",
        "outputId": "bd6c0165-e721-42ba-ead9-fbbf31c5fbc9"
      },
      "execution_count": null,
      "outputs": [
        {
          "output_type": "stream",
          "name": "stdout",
          "text": [
            "GATTACA\n",
            ".||||.|\n",
            "CATTAGA\n",
            "Score= 16\n"
          ]
        }
      ]
    },
    {
      "cell_type": "markdown",
      "source": [
        "#Количество выравниваний (4 балла)\n",
        "Выведите рекуррентную формулу количества всех возможных выравниваний последовательностей длины n и m пользуясь разбиением всех выравниваний на непересекающиеся блоки. (1.5 балл)\n",
        "Получите точную формулу, основываясь на начальные условия и рекуррентную формулу. (1.5 балл)\n",
        "Воспользуйтесь приближением Стирлинга чтобы получить приближенную формулу количества выравниваний. (1)"
      ],
      "metadata": {
        "id": "L99UC8vTRQWB"
      }
    },
    {
      "cell_type": "markdown",
      "source": [
        "Рекуррентная формула количества всех возможных выравниваний для последовательностей длины n и m можно выразить следующим образом:\n",
        "\n",
        "F(n, m) = F(n-1, m) + F(n, m-1) + F(n-1, m-1)\n",
        "\n",
        "где F(n, m) - количество всех возможных выравниваний для последовательностей длины n и m.\n",
        "\n",
        "Точная формула может быть получена из начальных условий F(0, 0) = 1, F(0, m) = 1, F(n, 0) = 1, и рекуррентной формулы выше, как решение диференциального уравнения.\n",
        "\n"
      ],
      "metadata": {
        "id": "GG4kLgzLRxCM"
      }
    },
    {
      "cell_type": "markdown",
      "source": [
        "$F(n, m) = \\displaystyle\\sum_{k=0}^{min(m,n)} 2^{k} \\binom{n}{k}\\binom{m}{k}$"
      ],
      "metadata": {
        "id": "7kGpz1dHSdOF"
      }
    },
    {
      "cell_type": "markdown",
      "source": [
        "Формула Стирлинга\n",
        "\n",
        "$n! ≈ sqrt(2πn) * (n/e)^n$\n",
        "\n"
      ],
      "metadata": {
        "id": "NtXcrUb0NurI"
      }
    },
    {
      "cell_type": "markdown",
      "source": [
        "$F(n, m) = \\displaystyle\\sum_{k=0}^{min(m,n)} 2^{k+1}π \\sqrt{\\frac{nm}{k^2(n-k)(m-k)} }\\frac{n^nm^m}{k^{2k}(n-k)^{n-k}(m-k)^{m-k}}$"
      ],
      "metadata": {
        "id": "-c0WSdz5RnnL"
      }
    }
  ]
}