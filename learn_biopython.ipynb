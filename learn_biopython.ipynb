{
 "cells": [
  {
   "cell_type": "raw",
   "source": [],
   "metadata": {
    "collapsed": false
   },
   "id": "e4caf17d15769df0"
  },
  {
   "cell_type": "code",
   "execution_count": null,
   "id": "6a6035ca545c0913",
   "metadata": {
    "collapsed": false
   },
   "outputs": [],
   "source": [
    "\n",
    "!pip install biopython"
   ]
  },
  {
   "cell_type": "markdown",
   "source": [
    "# Exploring Biopython Documentation\n",
    "\n",
    "Biopython provides extensive documentation that serves as a valuable resource for understanding its modules, functions, and usage. Here's a step-by-step guide on how to explore the documentation for a specific module, using the `Bio.Seq` module as an example:\n",
    "\n",
    "1. **Visit the Documentation:**\n",
    "   - Go to the [Biopython Documentation](https://biopython.org/wiki/Documentation).\n",
    "   - Navigate to the \"Biopython API\" section.\n",
    "\n",
    "2. **Locate the `Bio.Seq` Module:**\n",
    " \n",
    "3. **Explore Module Functions:**\n",
    "   - Click on the `Bio.Seq` module link to access its documentation.\n",
    "   - Explore the functions provided by the module, such as `Seq()`, `translate()`, etc.\n",
    "\n",
    "4. **Check Function Parameters:**\n",
    "   - Click on a specific function to view its documentation.\n",
    "   - Check the function's parameters, return values, and usage examples.\n",
    "\n"
   ],
   "metadata": {
    "collapsed": false
   },
   "id": "ab1cdd609ee13200"
  },
  {
   "cell_type": "code",
   "outputs": [
    {
     "name": "stdout",
     "output_type": "stream",
     "text": [
      "DNA Sequence: ATCGTAGCTAG\n",
      "First base: A\n",
      "Last base: G\n",
      "Sliced sequence: CGTA\n",
      "Concatenated sequence: ATCGTAGCTAGGATTACA\n"
     ]
    }
   ],
   "source": [
    "# Import the Seq class from Biopython\n",
    "from Bio.Seq import Seq\n",
    "\n",
    "# Create a DNA sequence\n",
    "dna_sequence = Seq(\"ATCGTAGCTAG\")\n",
    "\n",
    "# Display the sequence\n",
    "print(\"DNA Sequence:\", dna_sequence)\n",
    "\n",
    "# Accessing elements of the sequence\n",
    "print(\"First base:\", dna_sequence[0])\n",
    "print(\"Last base:\", dna_sequence[-1])\n",
    "\n",
    "# Slicing the sequence\n",
    "sub_sequence = dna_sequence[2:6]\n",
    "print(\"Sliced sequence:\", sub_sequence)\n",
    "\n",
    "# Concatenation of sequences\n",
    "concatenated_sequence = dna_sequence + Seq(\"GATTACA\")\n",
    "print(\"Concatenated sequence:\", concatenated_sequence)\n"
   ],
   "metadata": {
    "collapsed": false,
    "ExecuteTime": {
     "end_time": "2024-02-06T11:42:03.922696575Z",
     "start_time": "2024-02-06T11:42:03.914632443Z"
    }
   },
   "id": "7dd7f9eccc622f08",
   "execution_count": 2
  },
  {
   "cell_type": "markdown",
   "source": [
    "- Import the `Seq` class from `Bio.Seq` to work with biological sequences.\n",
    "- Create a DNA sequence and display it.\n",
    "- Access individual bases of the sequence and demonstrate slicing.\n",
    "- Concatenate sequences to show how it can be done with Biopython.\n"
   ],
   "metadata": {
    "collapsed": false
   },
   "id": "dabb0bec9e9074c"
  },
  {
   "cell_type": "code",
   "outputs": [
    {
     "name": "stdout",
     "output_type": "stream",
     "text": [
      "RNA Sequence: AUCGUAGCUAG\n",
      "Protein Sequence: IVA\n"
     ]
    },
    {
     "name": "stderr",
     "output_type": "stream",
     "text": [
      "/home/dmm2017/miniconda3/lib/python3.11/site-packages/Bio/Seq.py:2880: BiopythonWarning: Partial codon, len(sequence) not a multiple of three. Explicitly trim the sequence or add trailing N before translation. This may become an error in future.\n",
      "  warnings.warn(\n"
     ]
    }
   ],
   "source": [
    "# Transcribe DNA to RNA\n",
    "rna_sequence = dna_sequence.transcribe()\n",
    "print(\"RNA Sequence:\", rna_sequence)\n",
    "\n",
    "# Translate RNA to protein\n",
    "protein_sequence = rna_sequence.translate()\n",
    "print(\"Protein Sequence:\", protein_sequence)"
   ],
   "metadata": {
    "collapsed": false,
    "ExecuteTime": {
     "end_time": "2024-02-03T11:41:04.977529803Z",
     "start_time": "2024-02-03T11:41:04.969549200Z"
    }
   },
   "id": "2d64839dfd6e1623",
   "execution_count": 3
  },
  {
   "cell_type": "markdown",
   "source": [
    "- Use the `transcribe()` method to convert DNA to RNA.\n",
    "- Use the `translate()` method to convert RNA to protein.\n",
    "- Discuss the concept of transcription and translation in biological processes.\n"
   ],
   "metadata": {
    "collapsed": false
   },
   "id": "2e17e9a85670ff7e"
  },
  {
   "cell_type": "code",
   "outputs": [
    {
     "name": "stdout",
     "output_type": "stream",
     "text": [
      "Sequence written to example.fasta\n",
      "Read sequence from file:\n",
      "ID: sequence_1\n",
      "Description: sequence_1 Example DNA sequence\n",
      "Sequence: ATCGTAGCTAG\n"
     ]
    }
   ],
   "source": [
    "from Bio import SeqIO\n",
    "from Bio.Seq import Seq\n",
    "from Bio.SeqRecord import SeqRecord\n",
    "\n",
    "# Create a SeqRecord with a specific identifier and description\n",
    "record = SeqRecord(Seq(\"ATCGTAGCTAG\"), id=\"sequence_1\", description=\"Example DNA sequence\")\n",
    "\n",
    "# Write the SeqRecord to a FASTA file\n",
    "SeqIO.write(record, \"example.fasta\", \"fasta\")\n",
    "print(\"Sequence written to example.fasta\")\n",
    "\n",
    "# Read sequences from the FASTA file\n",
    "fasta_sequences = SeqIO.parse(\"example.fasta\", \"fasta\")\n",
    "for record in fasta_sequences:\n",
    "    print(\"Read sequence from file:\")\n",
    "    print(\"ID:\", record.id)\n",
    "    print(\"Description:\", record.description)\n",
    "    print(\"Sequence:\", record.seq)\n"
   ],
   "metadata": {
    "collapsed": false,
    "ExecuteTime": {
     "end_time": "2024-02-03T11:43:00.680998666Z",
     "start_time": "2024-02-03T11:43:00.674622651Z"
    }
   },
   "id": "2431742c9cd8579f",
   "execution_count": 6
  },
  {
   "cell_type": "markdown",
   "source": [
    "- Import `SeqIO` from Biopython for reading and writing sequence files.\n",
    "- Write the DNA sequence to a FASTA file using `SeqIO.write`.\n",
    "- Read sequences from the saved FASTA file using `SeqIO.parse` and print them.\n"
   ],
   "metadata": {
    "collapsed": false
   },
   "id": "30f2a98914e1401e"
  },
  {
   "cell_type": "code",
   "outputs": [
    {
     "name": "stdout",
     "output_type": "stream",
     "text": [
      "Accession: NM_001301717.2\n",
      "Description: Homo sapiens C-C motif chemokine receptor 7 (CCR7), transcript variant 4, mRNA\n",
      "Sequence length: 2191\n"
     ]
    }
   ],
   "source": [
    "from Bio import Entrez\n",
    "\n",
    "# Provide your email address to identify yourself to NCBI\n",
    "Entrez.email = \"your_email@example.com\"\n",
    "\n",
    "# Fetch data from NCBI using accession number\n",
    "accession_number = \"NM_001301717\"  # Example accession number\n",
    "handle = Entrez.efetch(db=\"nucleotide\", id=accession_number, rettype=\"gb\", retmode=\"text\")\n",
    "genbank_record = SeqIO.read(handle, \"genbank\")\n",
    "handle.close()\n",
    "\n",
    "# Display information from the GenBank record\n",
    "print(\"Accession:\", genbank_record.id)\n",
    "print(\"Description:\", genbank_record.description)\n",
    "print(\"Sequence length:\", len(genbank_record.seq))\n"
   ],
   "metadata": {
    "collapsed": false,
    "ExecuteTime": {
     "end_time": "2024-02-03T11:43:08.063697633Z",
     "start_time": "2024-02-03T11:43:06.672677218Z"
    }
   },
   "id": "1bf3af0cbd76a693",
   "execution_count": 7
  },
  {
   "cell_type": "markdown",
   "source": [
    "- Import `Entrez` module for accessing NCBI databases.\n",
    "- Set your email address to identify yourself to NCBI.\n",
    "- Use `Entrez.efetch` to retrieve a GenBank record by accession number.\n",
    "- Read the GenBank record using `SeqIO.read` and display relevant information.\n"
   ],
   "metadata": {
    "collapsed": false
   },
   "id": "a45c4e577dd03046"
  },
  {
   "cell_type": "code",
   "outputs": [
    {
     "name": "stdout",
     "output_type": "stream",
     "text": [
      "Aligned Sequence 1: ATCGTAGC-TAG\n",
      "Aligned Sequence 2: ATCGTA-CCTAG\n",
      "Alignment Score with Custom Scoring: 19.0\n",
      "BLAST-type alignment\n",
      "ATCGTAGC-TAG\n",
      "|||||| | |||\n",
      "ATCGTA-CCTAG\n",
      "  Score=19\n"
     ]
    }
   ],
   "source": [
    "from Bio import pairwise2\n",
    "from Bio.pairwise2 import format_alignment\n",
    "\n",
    "seq1 = Seq(\"ATCGTAGCTAG\")\n",
    "seq2 = Seq(\"ATCGTACCTAG\")\n",
    "\n",
    "# Define custom scoring matrix for matches and mismatches\n",
    "match_score = 2\n",
    "mismatch_penalty = -1\n",
    "gap_penalty = -0.5\n",
    "\n",
    "# Perform pairwise sequence alignment with custom scoring\n",
    "alignments_custom = pairwise2.align.globalms(seq1, seq2, match_score, mismatch_penalty, gap_penalty, gap_penalty, one_alignment_only=True)\n",
    "\n",
    "# Display the alignment result with custom scoring\n",
    "alignment_custom = alignments_custom[0]\n",
    "print(\"Aligned Sequence 1:\", alignment_custom.seqA)\n",
    "print(\"Aligned Sequence 2:\", alignment_custom.seqB)\n",
    "print(\"Alignment Score with Custom Scoring:\", alignment_custom.score)\n",
    "print(\"\")\n",
    "print(\"BLAST-type alignment\")\n",
    "for a in alignments_custom:\n",
    "    print(format_alignment(*a))\n"
   ],
   "metadata": {
    "collapsed": false,
    "ExecuteTime": {
     "end_time": "2024-02-06T11:50:03.275730882Z",
     "start_time": "2024-02-06T11:50:03.269815562Z"
    }
   },
   "id": "67ae647838529d49",
   "execution_count": 6
  },
  {
   "cell_type": "markdown",
   "source": [
    "- Create two DNA sequences for alignment.\n",
    "- Define a custom scoring matrix with match score, mismatch penalty, and gap penalty.\n",
    "- Use `pairwise2.align.globalms` for global alignment with custom scoring.\n",
    "- Display the aligned sequences and the alignment score with custom scoring.\n"
   ],
   "metadata": {
    "collapsed": false
   },
   "id": "63537d44c51ccadc"
  },
  {
   "cell_type": "code",
   "outputs": [
    {
     "name": "stdout",
     "output_type": "stream",
     "text": [
      "Downloaded PDB file: 6YYT.pdb\n",
      "Structure ID: Hemoglobin\n",
      "Number of models: 1\n",
      "Number of chains: 8\n"
     ]
    }
   ],
   "source": [
    "from Bio.PDB import PDBParser\n",
    "\n",
    "# Download a sample PDB file (e.g., hemoglobin structure)\n",
    "pdb_url = \"https://files.rcsb.org/download/6YYT.pdb\"\n",
    "pdb_filename = \"6YYT.pdb\"\n",
    "\n",
    "import urllib.request\n",
    "urllib.request.urlretrieve(pdb_url, pdb_filename)\n",
    "print(f\"Downloaded PDB file: {pdb_filename}\")\n",
    "\n",
    "# Parse the PDB file\n",
    "parser = PDBParser(QUIET=True)\n",
    "structure = parser.get_structure(\"Hemoglobin\", pdb_filename)\n",
    "\n",
    "# Display information about the structure\n",
    "print(\"Structure ID:\", structure.id)\n",
    "print(\"Number of models:\", len(structure))\n",
    "print(\"Number of chains:\", len(list(structure[0])))\n"
   ],
   "metadata": {
    "collapsed": false,
    "ExecuteTime": {
     "end_time": "2024-02-06T12:15:06.215866120Z",
     "start_time": "2024-02-06T12:15:04.284985391Z"
    }
   },
   "id": "b6ea5c7c916ee9fb",
   "execution_count": 15
  },
  {
   "cell_type": "code",
   "outputs": [],
   "source": [
    "!pip install nglview"
   ],
   "metadata": {
    "collapsed": false
   },
   "id": "13de38c130f85455",
   "execution_count": null
  },
  {
   "cell_type": "markdown",
   "source": [
    "- Import `PDBParser` from Biopython for parsing PDB files.\n",
    "- Download a sample PDB file from the RCSB PDB database (replace the URL if needed).\n",
    "- Parse the PDB file using the `PDBParser` and display basic information about the structure.\n"
   ],
   "metadata": {
    "collapsed": false
   },
   "id": "92d3de804af6a2a"
  },
  {
   "cell_type": "code",
   "outputs": [
    {
     "name": "stdout",
     "output_type": "stream",
     "text": [
      "Collecting matplotlib\r\n",
      "  Downloading matplotlib-3.8.2-cp311-cp311-manylinux_2_17_x86_64.manylinux2014_x86_64.whl.metadata (5.8 kB)\r\n",
      "Collecting contourpy>=1.0.1 (from matplotlib)\r\n",
      "  Downloading contourpy-1.2.0-cp311-cp311-manylinux_2_17_x86_64.manylinux2014_x86_64.whl.metadata (5.8 kB)\r\n",
      "Collecting cycler>=0.10 (from matplotlib)\r\n",
      "  Downloading cycler-0.12.1-py3-none-any.whl.metadata (3.8 kB)\r\n",
      "Collecting fonttools>=4.22.0 (from matplotlib)\r\n",
      "  Downloading fonttools-4.47.2-cp311-cp311-manylinux_2_17_x86_64.manylinux2014_x86_64.whl.metadata (157 kB)\r\n",
      "\u001B[2K     \u001B[90m━━━━━━━━━━━━━━━━━━━━━━━━━━━━━━━━━━━━━━━\u001B[0m \u001B[32m157.6/157.6 kB\u001B[0m \u001B[31m1.4 MB/s\u001B[0m eta \u001B[36m0:00:00\u001B[0m00:01\u001B[0m00:01\u001B[0m\r\n",
      "\u001B[?25hCollecting kiwisolver>=1.3.1 (from matplotlib)\r\n",
      "  Downloading kiwisolver-1.4.5-cp311-cp311-manylinux_2_17_x86_64.manylinux2014_x86_64.whl.metadata (6.4 kB)\r\n",
      "Requirement already satisfied: numpy<2,>=1.21 in /home/dmm2017/miniconda3/lib/python3.11/site-packages (from matplotlib) (1.26.3)\r\n",
      "Requirement already satisfied: packaging>=20.0 in /home/dmm2017/miniconda3/lib/python3.11/site-packages (from matplotlib) (23.1)\r\n",
      "Collecting pillow>=8 (from matplotlib)\r\n",
      "  Downloading pillow-10.2.0-cp311-cp311-manylinux_2_28_x86_64.whl.metadata (9.7 kB)\r\n",
      "Collecting pyparsing>=2.3.1 (from matplotlib)\r\n",
      "  Downloading pyparsing-3.1.1-py3-none-any.whl.metadata (5.1 kB)\r\n",
      "Requirement already satisfied: python-dateutil>=2.7 in /home/dmm2017/miniconda3/lib/python3.11/site-packages (from matplotlib) (2.8.2)\r\n",
      "Requirement already satisfied: six>=1.5 in /home/dmm2017/miniconda3/lib/python3.11/site-packages (from python-dateutil>=2.7->matplotlib) (1.16.0)\r\n",
      "Downloading matplotlib-3.8.2-cp311-cp311-manylinux_2_17_x86_64.manylinux2014_x86_64.whl (11.6 MB)\r\n",
      "\u001B[2K   \u001B[90m━━━━━━━━━━━━━━━━━━━━━━━━━━━━━━━━━━━━━━━━\u001B[0m \u001B[32m11.6/11.6 MB\u001B[0m \u001B[31m3.5 MB/s\u001B[0m eta \u001B[36m0:00:00\u001B[0m00:01\u001B[0m00:01\u001B[0m\r\n",
      "\u001B[?25hDownloading contourpy-1.2.0-cp311-cp311-manylinux_2_17_x86_64.manylinux2014_x86_64.whl (313 kB)\r\n",
      "\u001B[2K   \u001B[90m━━━━━━━━━━━━━━━━━━━━━━━━━━━━━━━━━━━━━━━━\u001B[0m \u001B[32m313.4/313.4 kB\u001B[0m \u001B[31m2.4 MB/s\u001B[0m eta \u001B[36m0:00:00\u001B[0m00:01\u001B[0m00:01\u001B[0m\r\n",
      "\u001B[?25hDownloading cycler-0.12.1-py3-none-any.whl (8.3 kB)\r\n",
      "Downloading fonttools-4.47.2-cp311-cp311-manylinux_2_17_x86_64.manylinux2014_x86_64.whl (4.9 MB)\r\n",
      "\u001B[2K   \u001B[90m━━━━━━━━━━━━━━━━━━━━━━━━━━━━━━━━━━━━━━━━\u001B[0m \u001B[32m4.9/4.9 MB\u001B[0m \u001B[31m3.0 MB/s\u001B[0m eta \u001B[36m0:00:00\u001B[0m00:01\u001B[0m00:01\u001B[0m\r\n",
      "\u001B[?25hDownloading kiwisolver-1.4.5-cp311-cp311-manylinux_2_17_x86_64.manylinux2014_x86_64.whl (1.4 MB)\r\n",
      "\u001B[2K   \u001B[90m━━━━━━━━━━━━━━━━━━━━━━━━━━━━━━━━━━━━━━━━\u001B[0m \u001B[32m1.4/1.4 MB\u001B[0m \u001B[31m4.4 MB/s\u001B[0m eta \u001B[36m0:00:00\u001B[0m00:01\u001B[0m00:01\u001B[0mm\r\n",
      "\u001B[?25hDownloading pillow-10.2.0-cp311-cp311-manylinux_2_28_x86_64.whl (4.5 MB)\r\n",
      "\u001B[2K   \u001B[90m━━━━━━━━━━━━━━━━━━━━━━━━━━━━━━━━━━━━━━━━\u001B[0m \u001B[32m4.5/4.5 MB\u001B[0m \u001B[31m3.9 MB/s\u001B[0m eta \u001B[36m0:00:00\u001B[0m00:01\u001B[0m00:01\u001B[0m\r\n",
      "\u001B[?25hDownloading pyparsing-3.1.1-py3-none-any.whl (103 kB)\r\n",
      "\u001B[2K   \u001B[90m━━━━━━━━━━━━━━━━━━━━━━━━━━━━━━━━━━━━━━━━\u001B[0m \u001B[32m103.1/103.1 kB\u001B[0m \u001B[31m4.4 MB/s\u001B[0m eta \u001B[36m0:00:00\u001B[0m\r\n",
      "\u001B[?25hInstalling collected packages: pyparsing, pillow, kiwisolver, fonttools, cycler, contourpy, matplotlib\r\n",
      "Successfully installed contourpy-1.2.0 cycler-0.12.1 fonttools-4.47.2 kiwisolver-1.4.5 matplotlib-3.8.2 pillow-10.2.0 pyparsing-3.1.1\r\n"
     ]
    },
    {
     "data": {
      "text/plain": "<Figure size 640x480 with 1 Axes>",
      "image/png": "[encoded data removed]"
     },
     "metadata": {},
     "output_type": "display_data"
    }
   ],
   "source": [
    "!pip install matplotlib\n",
    "from Bio import Phylo\n",
    "from io import StringIO\n",
    "\n",
    "\n",
    "# Create a basic Newick format string for a small tree\n",
    "newick_tree = \"((A:0.1,B:0.2)C:0.3,D:0.4)E;\"\n",
    "handle = StringIO(newick_tree)\n",
    "# Parse the Newick format tree\n",
    "tree = Phylo.read(handle, \"newick\")\n",
    "\n",
    "# Draw the phylogenetic tree\n",
    "Phylo.draw(tree)\n"
   ],
   "metadata": {
    "collapsed": false,
    "ExecuteTime": {
     "end_time": "2024-02-06T12:21:34.575252943Z",
     "start_time": "2024-02-06T12:21:21.803891625Z"
    }
   },
   "id": "60235133271725e7",
   "execution_count": 22
  },
  {
   "cell_type": "markdown",
   "source": [
    "    A, B, C, and D are taxa (leaves of the tree).\n",
    "    The numbers after the colon represent branch lengths.\n",
    "    The parentheses indicate the relationships and branching patterns."
   ],
   "metadata": {
    "collapsed": false
   },
   "id": "5501a0d64ea4d70a"
  },
  {
   "cell_type": "code",
   "outputs": [
    {
     "data": {
      "text/plain": "<Figure size 640x480 with 1 Axes>",
      "image/png": "[encoded data removed]"
     },
     "metadata": {},
     "output_type": "display_data"
    }
   ],
   "source": [
    "from Bio import Phylo\n",
    "\n",
    "# Create Clade objects for leaves\n",
    "A = Phylo.BaseTree.Clade(name=\"A\", branch_length=0.1)\n",
    "B = Phylo.BaseTree.Clade(name=\"B\", branch_length=0.2)\n",
    "C = Phylo.BaseTree.Clade(name=\"C\", branch_length=0.3)\n",
    "D = Phylo.BaseTree.Clade(name=\"D\", branch_length=0.4)\n",
    "\n",
    "# Create internal nodes and the root node\n",
    "internal_node_1 = Phylo.BaseTree.Clade(name = \"I\", branch_length=0.1, clades=[A, B])\n",
    "internal_node_2 = Phylo.BaseTree.Clade(name = \"I2\", branch_length=0.3, clades=[internal_node_1, D])\n",
    "root_node = Phylo.BaseTree.Clade(name = \"C\", branch_length=0.4, clades=[internal_node_2])\n",
    "\n",
    "# Create the Tree object\n",
    "tree = Phylo.BaseTree.Tree(root_node)\n",
    "\n",
    "# Draw the phylogenetic tree\n",
    "Phylo.draw(tree)"
   ],
   "metadata": {
    "collapsed": false,
    "ExecuteTime": {
     "end_time": "2024-02-06T12:27:28.939597711Z",
     "start_time": "2024-02-06T12:27:28.861254787Z"
    }
   },
   "id": "b4e8dd6d7af38521",
   "execution_count": 28
  },
  {
   "cell_type": "code",
   "outputs": [
    {
     "name": "stdout",
     "output_type": "stream",
     "text": [
      "Requirement already satisfied: networkx in /home/dmm2017/miniconda3/lib/python3.11/site-packages (3.2.1)\r\n"
     ]
    },
    {
     "data": {
      "text/plain": "<Figure size 640x480 with 1 Axes>",
      "image/png": "[encoded data removed]"
     },
     "metadata": {},
     "output_type": "display_data"
    }
   ],
   "source": [
    "!pip install networkx\n",
    "import networkx\n",
    "net = Phylo.to_networkx(tree)\n",
    "networkx.draw(net)"
   ],
   "metadata": {
    "collapsed": false,
    "ExecuteTime": {
     "end_time": "2024-02-06T12:29:55.653080130Z",
     "start_time": "2024-02-06T12:29:54.484720695Z"
    }
   },
   "id": "3203eecb5f97fc8a",
   "execution_count": 33
  },
  {
   "cell_type": "markdown",
   "source": [],
   "metadata": {
    "collapsed": false
   },
   "id": "532951063ff2dc03"
  },
  {
   "cell_type": "markdown",
   "source": [
    "# Exercise: DNA Sequence Motif Search\n",
    "Problem Statement:\n",
    "\n",
    "You are given a DNA sequence and a motif. Your task is to write a Python function that finds all occurrences of the motif within the DNA sequence. Additionally, the function should return the positions (indices) of the motif in the DNA sequence.\n",
    "\n",
    "Write a Python function named find_motif with the following signature:"
   ],
   "metadata": {
    "collapsed": false
   },
   "id": "78389907f86f07c8"
  },
  {
   "cell_type": "code",
   "outputs": [],
   "source": [
    "def find_motif(dna_sequence, motif):\n",
    "    \"\"\"\n",
    "    Find all occurrences of a motif in a DNA sequence.\n",
    "\n",
    "    Parameters:\n",
    "    - dna_sequence (str): The input DNA sequence.\n",
    "    - motif (str): The motif to search for.\n",
    "\n",
    "    Returns:\n",
    "    - List of integers: Positions (indices) of motif occurrences in the DNA sequence.\n",
    "    \"\"\"\n",
    "    # Your implementation here\n",
    "    pass\n",
    "\n"
   ],
   "metadata": {
    "collapsed": false
   },
   "id": "d307edbeaee82a20"
  },
  {
   "cell_type": "code",
   "outputs": [],
   "source": [
    "# Example usage\n",
    "dna_sequence = \"ATGCTATGATGCTATG\"\n",
    "motif = \"ATG\"\n",
    "\n",
    "# Expected output: [0, 6, 12]\n",
    "positions = find_motif(dna_sequence, motif)\n",
    "print(\"Motif positions:\", positions)\n"
   ],
   "metadata": {
    "collapsed": false
   },
   "id": "220d552f0728c679"
  },
  {
   "cell_type": "markdown",
   "source": [
    "Please check BioPython documentation and come up with easy and effective solution"
   ],
   "metadata": {
    "collapsed": false
   },
   "id": "1063ceb83b850d08"
  }
 ],
 "metadata": {
  "kernelspec": {
   "display_name": "Python 3",
   "language": "python",
   "name": "python3"
  },
  "language_info": {
   "codemirror_mode": {
    "name": "ipython",
    "version": 2
   },
   "file_extension": ".py",
   "mimetype": "text/x-python",
   "name": "python",
   "nbconvert_exporter": "python",
   "pygments_lexer": "ipython2",
   "version": "2.7.6"
  }
 },
 "nbformat": 4,
 "nbformat_minor": 5
}
