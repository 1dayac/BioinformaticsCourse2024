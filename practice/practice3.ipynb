{
 "cells": [
  {
   "cell_type": "markdown",
   "source": [
    "### Homework solutions\n"
   ],
   "metadata": {
    "collapsed": false
   },
   "id": "25df2dee360d1f58"
  },
  {
   "cell_type": "markdown",
   "source": [
    "## Needlman-Wunsch\n",
    "\n"
   ],
   "metadata": {
    "collapsed": false
   },
   "id": "698716a4f1589ac2"
  },
  {
   "cell_type": "code",
   "outputs": [
    {
     "name": "stdout",
     "output_type": "stream",
     "text": [
      "Sequence 1: AGTACGCA\n",
      "Sequence 2: --TATGC-\n",
      "Alignment Score: 1\n"
     ]
    }
   ],
   "source": [
    "def needleman_wunsch_with_matrix(seq1, seq2, score_matrix, gap_penalty=-1):\n",
    "    # Initialize the scoring matrix\n",
    "    m, n = len(seq1) + 1, len(seq2) + 1\n",
    "    alignment_matrix = [[0] * n for _ in range(m)]\n",
    "\n",
    "    # Initialize the first row and column with gap penalties\n",
    "    for i in range(m):\n",
    "        alignment_matrix[i][0] = i * gap_penalty\n",
    "    for j in range(n):\n",
    "        alignment_matrix[0][j] = j * gap_penalty\n",
    "\n",
    "    # Fill in the scoring matrix\n",
    "    for i in range(1, m):\n",
    "        for j in range(1, n):\n",
    "            match_mismatch_score = score_matrix[seq1[i - 1]][seq2[j - 1]]\n",
    "            diagonal_score = alignment_matrix[i - 1][j - 1] + match_mismatch_score\n",
    "            up_score = alignment_matrix[i - 1][j] + gap_penalty\n",
    "            left_score = alignment_matrix[i][j - 1] + gap_penalty\n",
    "\n",
    "            # Choose the maximum score\n",
    "            alignment_matrix[i][j] = max(diagonal_score, up_score, left_score)\n",
    "\n",
    "    # Traceback to find the alignment\n",
    "    align_seq1, align_seq2 = '', ''\n",
    "    i, j = m - 1, n - 1\n",
    "    while i > 0 or j > 0:\n",
    "        if i > 0 and j > 0 and alignment_matrix[i][j] == alignment_matrix[i - 1][j - 1] + score_matrix[seq1[i - 1]][seq2[j - 1]]:\n",
    "            align_seq1 = seq1[i - 1] + align_seq1\n",
    "            align_seq2 = seq2[j - 1] + align_seq2\n",
    "            i -= 1\n",
    "            j -= 1\n",
    "        elif i > 0 and alignment_matrix[i][j] == alignment_matrix[i - 1][j] + gap_penalty:\n",
    "            align_seq1 = seq1[i - 1] + align_seq1\n",
    "            align_seq2 = '-' + align_seq2\n",
    "            i -= 1\n",
    "        else:\n",
    "            align_seq1 = '-' + align_seq1\n",
    "            align_seq2 = seq2[j - 1] + align_seq2\n",
    "            j -= 1\n",
    "\n",
    "    return align_seq1, align_seq2, alignment_matrix[-1][-1]\n",
    "\n",
    "# Example usage:\n",
    "seq1 = \"AGTACGCA\"\n",
    "seq2 = \"TATGC\"\n",
    "match_matrix = {\n",
    "    'A': {'A': 1, 'C': -1, 'G': 0, 'T': 0},\n",
    "    'C': {'A': -1, 'C': 1, 'G': 0, 'T': 0},\n",
    "    'G': {'A': 0, 'C': 0, 'G': 1, 'T': -1},\n",
    "    'T': {'A': 0, 'C': 0, 'G': -1, 'T': 1}\n",
    "}\n",
    "\n",
    "alignment1, alignment2, score = needleman_wunsch_with_matrix(seq1, seq2, match_matrix)\n",
    "\n",
    "print(\"Sequence 1:\", alignment1)\n",
    "print(\"Sequence 2:\", alignment2)\n",
    "print(\"Alignment Score:\", score)\n"
   ],
   "metadata": {
    "collapsed": false,
    "ExecuteTime": {
     "end_time": "2024-03-06T14:23:54.178192562Z",
     "start_time": "2024-03-06T14:23:54.169873632Z"
    }
   },
   "id": "6aab9b20fe28c580",
   "execution_count": 2
  },
  {
   "cell_type": "markdown",
   "source": [
    "## Affine gap algorithm"
   ],
   "metadata": {
    "collapsed": false
   },
   "id": "15012be3848e979c"
  },
  {
   "cell_type": "code",
   "outputs": [],
   "source": [
    "blosum62matrix = \"\"\"\n",
    "   A  C  D  E  F  G  H  I  K  L  M  N  P  Q  R  S  T  V  W  Y\n",
    "A  4  0 -2 -1 -2  0 -2 -1 -1 -1 -1 -2 -1 -1 -1  1  0  0 -3 -2\n",
    "C  0  9 -3 -4 -2 -3 -3 -1 -3 -1 -1 -3 -3 -3 -3 -1 -1 -1 -2 -2\n",
    "D -2 -3  6  2 -3 -1 -1 -3 -1 -4 -3  1 -1  0 -2  0 -1 -3 -4 -3\n",
    "E -1 -4  2  5 -3 -2  0 -3  1 -3 -2  0 -1  2  0  0 -1 -2 -3 -2\n",
    "F -2 -2 -3 -3  6 -3 -1  0 -3  0  0 -3 -4 -3 -3 -2 -2 -1  1  3\n",
    "G  0 -3 -1 -2 -3  6 -2 -4 -2 -4 -3  0 -2 -2 -2  0 -2 -3 -2 -3\n",
    "H -2 -3 -1  0 -1 -2  8 -3 -1 -3 -2  1 -2  0  0 -1 -2 -3 -2  2\n",
    "I -1 -1 -3 -3  0 -4 -3  4 -3  2  1 -3 -3 -3 -3 -2 -1  3 -3 -1\n",
    "K -1 -3 -1  1 -3 -2 -1 -3  5 -2 -1  0 -1  1  2  0 -1 -2 -3 -2\n",
    "L -1 -1 -4 -3  0 -4 -3  2 -2  4  2 -3 -3 -2 -2 -2 -1  1 -2 -1\n",
    "M -1 -1 -3 -2  0 -3 -2  1 -1  2  5 -2 -2  0 -1 -1 -1  1 -1 -1\n",
    "N -2 -3  1  0 -3  0  1 -3  0 -3 -2  6 -2  0  0  1  0 -3 -4 -2\n",
    "P -1 -3 -1 -1 -4 -2 -2 -3 -1 -3 -2 -2  7 -1 -2 -1 -1 -2 -4 -3\n",
    "Q -1 -3  0  2 -3 -2  0 -3  1 -2  0  0 -1  5  1  0 -1 -2 -2 -1\n",
    "R -1 -3 -2  0 -3 -2  0 -3  2 -2 -1  0 -2  1  5 -1 -1 -3 -3 -2\n",
    "S  1 -1  0  0 -2  0 -1 -2  0 -2 -1  1 -1  0 -1  4  1 -2 -3 -2\n",
    "T  0 -1 -1 -1 -2 -2 -2 -1 -1 -1 -1  0 -1 -1 -1  1  5  0 -2 -2\n",
    "V  0 -1 -3 -2 -1 -3 -3  3 -2  1  1 -3 -2 -2 -3 -2  0  4 -3 -1\n",
    "W -3 -2 -4 -3  1 -2 -2 -3 -3 -2 -1 -4 -4 -2 -3 -3 -2 -3 11  2\n",
    "Y -2 -2 -3 -2  3 -3  2 -1 -2 -1 -1 -2 -3 -1 -2 -2 -2 -1  2  7\n",
    "\"\"\".split('\\n')[1:-1]\n",
    "\n",
    "blosum62 = dict()\n",
    "\n",
    "\n",
    "def initialize_blosum62():\n",
    "    alphabet = [a.strip() for a in blosum62matrix[0].split()]\n",
    "    for i, row in enumerate(blosum62matrix[1:]):\n",
    "        for j, val in enumerate([int(x) for x in row[1:].split()]):\n",
    "            blosum62[(alphabet[i], alphabet[j])] = val\n",
    "\n",
    "\n",
    "def global_alignment_affine(s, t, gap_open=11, gap_extend=1):\n",
    "\n",
    "\n",
    "    if len(blosum62) == 0:\n",
    "        initialize_blosum62()\n",
    "    \n",
    "    down = [[0]*(len(t)+1) for i in range(len(s)+1)]\n",
    "    right = [[0]*(len(t)+1) for i in range(len(s)+1)]\n",
    "    m = [[0]*(len(t)+1) for i in range(len(s)+1)]\n",
    "    \n",
    "    for i in range(len(s)):\n",
    "        down[i+1][0] = -gap_open-i*gap_extend\n",
    "        right[i+1][0] = -float('inf')\n",
    "        m[i+1][0] = -gap_open-i*gap_extend\n",
    "    for j in range(len(t)):\n",
    "        down[0][j+1] = -float('inf')\n",
    "        right[0][j+1] = -gap_open-j*gap_extend\n",
    "        m[0][j+1] = -gap_open-j*gap_extend\n",
    "    \n",
    "    for i in range(len(s)):\n",
    "        for j in range(len(t)):\n",
    "            down[i+1][j+1] = max(down[i][j+1]-gap_extend, m[i][j+1]-gap_open)\n",
    "            right[i+1][j+1] = max(right[i+1][j]-gap_extend, m[i+1][j]-gap_open)\n",
    "            m[i+1][j+1] = max(down[i+1][j+1],\n",
    "                              right[i+1][j+1],\n",
    "                              m[i][j] + blosum62[(s[i], t[j])])\n",
    "    \n",
    "    i, j = len(s), len(t)\n",
    "    \n",
    "    if m[i][j] == down[i][j]:\n",
    "        prev = 'up'\n",
    "    elif m[i][j] == right[i][j]:\n",
    "        prev = 'left'\n",
    "    else:\n",
    "        prev = 'diagonal'\n",
    "    \n",
    "    s_align = ''\n",
    "    t_align = ''\n",
    "    \n",
    "    while True:\n",
    "        if i > 0 and j > 0:\n",
    "            up = max(down[i-1][j]-gap_extend, m[i-1][j]-gap_open)\n",
    "            left = max(right[i][j-1]-gap_extend, m[i][j-1]-gap_open)\n",
    "    \n",
    "            if prev == 'up':\n",
    "                if up != down[i-1][j]-gap_extend:\n",
    "                    prev = 'diagonal'\n",
    "                i -= 1\n",
    "                s_align = s[i] + s_align\n",
    "                t_align = '-' + t_align\n",
    "            elif prev == 'left':\n",
    "                if left != right[i][j-1]-gap_extend:\n",
    "                    prev = 'diagonal'\n",
    "                j -= 1\n",
    "                s_align = '-' + s_align\n",
    "                t_align = t[j] + t_align\n",
    "            else:\n",
    "                diagonal = m[i-1][j-1] + blosum62[(s[i-1], t[j-1])]\n",
    "    \n",
    "                if up == max(up, diagonal, left):\n",
    "                    prev = 'up'\n",
    "                elif left > diagonal:\n",
    "                    prev = 'left'\n",
    "                else:\n",
    "                    i -= 1\n",
    "                    j -= 1\n",
    "                    s_align = s[i] + s_align\n",
    "                    t_align = t[j] + t_align\n",
    "        elif i > 0:\n",
    "            i -= 1\n",
    "            s_align = s[i] + s_align\n",
    "            t_align = '-' + t_align\n",
    "        elif j > 0:\n",
    "            j -= 1\n",
    "            s_align = '-' + s_align\n",
    "            t_align = t[j] + t_align\n",
    "        else:\n",
    "            break\n",
    "\n",
    "    print(m[-1][-1])\n",
    "    print(s_align)\n",
    "    print(t_align)\n",
    "\n"
   ],
   "metadata": {
    "collapsed": false,
    "ExecuteTime": {
     "end_time": "2024-03-06T16:25:09.965189722Z",
     "start_time": "2024-03-06T16:25:09.956727125Z"
    }
   },
   "id": "8b685e367933e076",
   "execution_count": 5
  },
  {
   "cell_type": "code",
   "outputs": [
    {
     "name": "stdout",
     "output_type": "stream",
     "text": [
      "302\n",
      "PTIMWAYSKPVSNGIM------------FLILLTWCRCYIRPSNFHMRTQNWTFKVNQLLPLDKYSCMWGIQGMYASTWLSHGCVRVWQYPVM\n",
      "PFGKWTHLI-VSNGIYNSQWTTHHNFQESLELLTWCRCYIRPS---MRTQNWTFKVNQLLPLDKYSCMWKIQGMYAST-LSHGCVRVWQYPVM\n"
     ]
    }
   ],
   "source": [
    "global_alignment_affine(\"PTIMWAYSKPVSNGIMFLILLTWCRCYIRPSNFHMRTQNWTFKVNQLLPLDKYSCMWGIQGMYASTWLSHGCVRVWQYPVM\", \"PFGKWTHLIVSNGIYNSQWTTHHNFQESLELLTWCRCYIRPSMRTQNWTFKVNQLLPLDKYSCMWKIQGMYASTLSHGCVRVWQYPVM\")\n"
   ],
   "metadata": {
    "collapsed": false,
    "ExecuteTime": {
     "end_time": "2024-03-06T16:33:33.490183491Z",
     "start_time": "2024-03-06T16:33:33.447542330Z"
    }
   },
   "id": "b395949662d708b0",
   "execution_count": 6
  },
  {
   "cell_type": "markdown",
   "source": [
    "## Number of alignments"
   ],
   "metadata": {
    "collapsed": false
   },
   "id": "3b5f67e0c4eef76b"
  },
  {
   "cell_type": "markdown",
   "source": [
    "![correct](formula.png)"
   ],
   "metadata": {
    "collapsed": false
   },
   "id": "e8c18f92eb22ae28"
  },
  {
   "cell_type": "markdown",
   "source": [
    "![stirling](formula2.png)"
   ],
   "metadata": {
    "collapsed": false
   },
   "id": "94555a825ae28b8a"
  },
  {
   "cell_type": "markdown",
   "source": [
    "### Experimenting with BLAST"
   ],
   "metadata": {
    "collapsed": false
   },
   "id": "78a9bb6628c07423"
  },
  {
   "cell_type": "markdown",
   "source": [
    "## Random Sequences and BLAST.\n",
    "Sequence alignments can be performed online using the programs and data provided by the National Center for Biotechnology Information (NCBI).\n"
   ],
   "metadata": {
    "collapsed": false
   },
   "id": "97cc4a3e90ac385a"
  },
  {
   "cell_type": "markdown",
   "source": [
    "## Task 1\n",
    "\n",
    "Generate a random amino acid sequence and run it against a database of non-redundant sequences employing BLAST (http://www.ncbi.nlm.nih.gov/BLAST/); use the standard protein-protein BLAST [blastp]. Create a single fasta that contains several amino acid sequences of length 10, 50, 100, 1500 aminoacids. Did you find any “false homologous” in the database?"
   ],
   "metadata": {
    "collapsed": false
   },
   "id": "6703731747d34928"
  },
  {
   "cell_type": "markdown",
   "source": [
    "## Task 2\n",
    "\n",
    "Generate a random amino acid sequences with amino acid frequencies from the table below and with PERIODICITY of hydrophobic and non-hydrophobic residues. Run these sequences using BLAST. Interpret your results."
   ],
   "metadata": {
    "collapsed": false
   },
   "id": "35794f34871841cf"
  },
  {
   "cell_type": "code",
   "outputs": [],
   "source": [],
   "metadata": {
    "collapsed": false
   },
   "id": "3b5f1d9b8f8f8fbb",
   "execution_count": null
  },
  {
   "cell_type": "code",
   "outputs": [
    {
     "name": "stdout",
     "output_type": "stream",
     "text": [
      "            hydrophobic  value One_Letter\n",
      "Amino Acid                               \n",
      "CYS                True   1.66          C\n",
      "MET                True   2.37          M\n",
      "PHE                True   4.10          F\n",
      "ILE                True   5.81          I\n",
      "LEU                True   9.43          L\n",
      "VAL                True   6.58          V\n",
      "TRP                True   1.24          W\n",
      "TYR                True   3.19          Y\n",
      "ALA                True   7.58          A\n",
      "GLY                True   6.84          G\n",
      "THR               False   5.67          T\n",
      "SER               False   7.13          S\n",
      "GLN               False   3.97          Q\n",
      "ASN               False   4.44          N\n",
      "GLU               False   6.36          E\n",
      "ASP               False   5.27          D\n",
      "HIS               False   2.24          H\n",
      "ARG               False   5.16          R\n",
      "LYS               False   5.94          K\n",
      "PRO               False   4.92          P\n"
     ]
    }
   ],
   "source": [
    "import pandas as pd\n",
    "\n",
    "# Amino acid information\n",
    "amino_acids = {\n",
    "    'CYS': {'hydrophobic': True, 'value': 1.660},\n",
    "    'MET': {'hydrophobic': True, 'value': 2.370},\n",
    "    'PHE': {'hydrophobic': True, 'value': 4.100},\n",
    "    'ILE': {'hydrophobic': True, 'value': 5.810},\n",
    "    'LEU': {'hydrophobic': True, 'value': 9.430},\n",
    "    'VAL': {'hydrophobic': True, 'value': 6.580},\n",
    "    'TRP': {'hydrophobic': True, 'value': 1.240},\n",
    "    'TYR': {'hydrophobic': True, 'value': 3.190},\n",
    "    'ALA': {'hydrophobic': True, 'value': 7.580},\n",
    "    'GLY': {'hydrophobic': True, 'value': 6.840},\n",
    "    'THR': {'hydrophobic': False, 'value': 5.670},\n",
    "    'SER': {'hydrophobic': False, 'value': 7.130},\n",
    "    'GLN': {'hydrophobic': False, 'value': 3.970},\n",
    "    'ASN': {'hydrophobic': False, 'value': 4.440},\n",
    "    'GLU': {'hydrophobic': False, 'value': 6.360},\n",
    "    'ASP': {'hydrophobic': False, 'value': 5.270},\n",
    "    'HIS': {'hydrophobic': False, 'value': 2.240},\n",
    "    'ARG': {'hydrophobic': False, 'value': 5.160},\n",
    "    'LYS': {'hydrophobic': False, 'value': 5.940},\n",
    "    'PRO': {'hydrophobic': False, 'value': 4.920}\n",
    "}\n",
    "\n",
    "# Create DataFrame\n",
    "df = pd.DataFrame.from_dict(amino_acids, orient='index')\n",
    "df.index.name = 'Amino Acid'\n",
    "\n",
    "\n",
    "# Add 'One_Letter' column\n",
    "one_letter_mapping = {\n",
    "    'CYS': 'C', 'MET': 'M', 'PHE': 'F', 'ILE': 'I', 'LEU': 'L',\n",
    "    'VAL': 'V', 'TRP': 'W', 'TYR': 'Y', 'ALA': 'A', 'GLY': 'G',\n",
    "    'THR': 'T', 'SER': 'S', 'GLN': 'Q', 'ASN': 'N', 'GLU': 'E',\n",
    "    'ASP': 'D', 'HIS': 'H', 'ARG': 'R', 'LYS': 'K', 'PRO': 'P'\n",
    "}\n",
    "\n",
    "df['One_Letter'] = df.index.map(one_letter_mapping)\n",
    "\n",
    "\n",
    "# Display the DataFrame\n",
    "print(df)"
   ],
   "metadata": {
    "collapsed": false,
    "ExecuteTime": {
     "end_time": "2024-03-06T20:14:08.401989603Z",
     "start_time": "2024-03-06T20:14:08.360764528Z"
    }
   },
   "id": "509a5bc739dd668a",
   "execution_count": 21
  },
  {
   "cell_type": "code",
   "outputs": [
    {
     "data": {
      "text/plain": "            hydrophobic  value\nAmino Acid                    \nCYS                True   1.66\nMET                True   2.37\nPHE                True   4.10\nILE                True   5.81\nLEU                True   9.43\nVAL                True   6.58\nTRP                True   1.24\nTYR                True   3.19\nALA                True   7.58\nGLY                True   6.84\nTHR               False   5.67\nSER               False   7.13\nGLN               False   3.97\nASN               False   4.44\nGLU               False   6.36\nASP               False   5.27\nHIS               False   2.24\nARG               False   5.16\nLYS               False   5.94\nPRO               False   4.92",
      "text/html": "<div>\n<style scoped>\n    .dataframe tbody tr th:only-of-type {\n        vertical-align: middle;\n    }\n\n    .dataframe tbody tr th {\n        vertical-align: top;\n    }\n\n    .dataframe thead th {\n        text-align: right;\n    }\n</style>\n<table border=\"1\" class=\"dataframe\">\n  <thead>\n    <tr style=\"text-align: right;\">\n      <th></th>\n      <th>hydrophobic</th>\n      <th>value</th>\n    </tr>\n    <tr>\n      <th>Amino Acid</th>\n      <th></th>\n      <th></th>\n    </tr>\n  </thead>\n  <tbody>\n    <tr>\n      <th>CYS</th>\n      <td>True</td>\n      <td>1.66</td>\n    </tr>\n    <tr>\n      <th>MET</th>\n      <td>True</td>\n      <td>2.37</td>\n    </tr>\n    <tr>\n      <th>PHE</th>\n      <td>True</td>\n      <td>4.10</td>\n    </tr>\n    <tr>\n      <th>ILE</th>\n      <td>True</td>\n      <td>5.81</td>\n    </tr>\n    <tr>\n      <th>LEU</th>\n      <td>True</td>\n      <td>9.43</td>\n    </tr>\n    <tr>\n      <th>VAL</th>\n      <td>True</td>\n      <td>6.58</td>\n    </tr>\n    <tr>\n      <th>TRP</th>\n      <td>True</td>\n      <td>1.24</td>\n    </tr>\n    <tr>\n      <th>TYR</th>\n      <td>True</td>\n      <td>3.19</td>\n    </tr>\n    <tr>\n      <th>ALA</th>\n      <td>True</td>\n      <td>7.58</td>\n    </tr>\n    <tr>\n      <th>GLY</th>\n      <td>True</td>\n      <td>6.84</td>\n    </tr>\n    <tr>\n      <th>THR</th>\n      <td>False</td>\n      <td>5.67</td>\n    </tr>\n    <tr>\n      <th>SER</th>\n      <td>False</td>\n      <td>7.13</td>\n    </tr>\n    <tr>\n      <th>GLN</th>\n      <td>False</td>\n      <td>3.97</td>\n    </tr>\n    <tr>\n      <th>ASN</th>\n      <td>False</td>\n      <td>4.44</td>\n    </tr>\n    <tr>\n      <th>GLU</th>\n      <td>False</td>\n      <td>6.36</td>\n    </tr>\n    <tr>\n      <th>ASP</th>\n      <td>False</td>\n      <td>5.27</td>\n    </tr>\n    <tr>\n      <th>HIS</th>\n      <td>False</td>\n      <td>2.24</td>\n    </tr>\n    <tr>\n      <th>ARG</th>\n      <td>False</td>\n      <td>5.16</td>\n    </tr>\n    <tr>\n      <th>LYS</th>\n      <td>False</td>\n      <td>5.94</td>\n    </tr>\n    <tr>\n      <th>PRO</th>\n      <td>False</td>\n      <td>4.92</td>\n    </tr>\n  </tbody>\n</table>\n</div>"
     },
     "execution_count": 20,
     "metadata": {},
     "output_type": "execute_result"
    }
   ],
   "source": [
    "df"
   ],
   "metadata": {
    "collapsed": false,
    "ExecuteTime": {
     "end_time": "2024-03-06T20:13:46.296481572Z",
     "start_time": "2024-03-06T20:13:46.282679926Z"
    }
   },
   "id": "3e62157ba0178fc3",
   "execution_count": 20
  },
  {
   "cell_type": "code",
   "outputs": [
    {
     "name": "stdout",
     "output_type": "stream",
     "text": [
      "Random Sequence: QRKEICYIAKNPTKKENKKRIMFWLIYIFGVAIQSKHPQDDNPTFAMGGC\n"
     ]
    }
   ],
   "source": [],
   "metadata": {
    "collapsed": false,
    "ExecuteTime": {
     "end_time": "2024-03-06T20:14:46.417892786Z",
     "start_time": "2024-03-06T20:14:46.375481974Z"
    }
   },
   "id": "a3660ab47ef683ce",
   "execution_count": 22
  },
  {
   "cell_type": "markdown",
   "source": [
    "### Task 3 \n",
    "Take an amino acid sequence (a protein of your choice, or one of proteins suggested below) and introduce X% of random mutations. Run mutated proteins against the database\n",
    "using BLAST or PSI-BLAST (same web page). Try different frequency of mutations (X = 0, · · · 100%). What level of mutations is tolerated by BLAST? by PSI-BLAST? Interpret\n",
    "your results."
   ],
   "metadata": {
    "collapsed": false
   },
   "id": "27b91999e85f6c80"
  },
  {
   "cell_type": "markdown",
   "source": [
    "Myoglobin: \"MAKRRGSVPGRVREYWLPSPCWKCHMLHQGKWWGRRSQGMGGAEGFMEHGSTTLQRKPGASSELGILQVRDLSWLVQPQAQTCCGSFVPLSAGLRASAK\"\n",
    "Histon H2B: \"MTDKITKKKRNETYSIYIYKVLRQVHPKIGVSSKAMNIMNSFVNDLFERLVSESYNLSNSSRSKTLTAREIQTSVRLVIPGELAKHSVSEGTKAVAKYRSSI\"\n",
    "SH3 Domain: \"MDETGKELVLALYDYQEKSPREVTMKKGDILTLLNSTNKDWWKVEVNDRQGYVPAAYVKKLD\""
   ],
   "metadata": {
    "collapsed": false
   },
   "id": "9b3c50a5102f1960"
  },
  {
   "cell_type": "markdown",
   "source": [
    "### Task 4\n",
    "\n",
    "Introduce X% of mutations such that a hydrophobic amino acid is substituted by a random hydrophobic one and vice versa. Run using BLAST. Did the threshold level for X change?"
   ],
   "metadata": {
    "collapsed": false
   },
   "id": "da02875e327444bf"
  },
  {
   "cell_type": "code",
   "outputs": [],
   "source": [],
   "metadata": {
    "collapsed": false
   },
   "id": "88fc5f7532b0fba7"
  }
 ],
 "metadata": {
  "kernelspec": {
   "display_name": "Python 3",
   "language": "python",
   "name": "python3"
  },
  "language_info": {
   "codemirror_mode": {
    "name": "ipython",
    "version": 2
   },
   "file_extension": ".py",
   "mimetype": "text/x-python",
   "name": "python",
   "nbconvert_exporter": "python",
   "pygments_lexer": "ipython2",
   "version": "2.7.6"
  }
 },
 "nbformat": 4,
 "nbformat_minor": 5
}
