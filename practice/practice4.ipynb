{
 "cells": [
  {
   "cell_type": "markdown",
   "source": [
    "### Again about BWT"
   ],
   "metadata": {
    "collapsed": false
   },
   "id": "265911fd616004ad"
  },
  {
   "cell_type": "markdown",
   "source": [
    "Today we will construct BWT from scratch. First we will construct a suffix array for a given string using pysuffixarray."
   ],
   "metadata": {
    "collapsed": false
   },
   "id": "ad7d881399e5bb89"
  },
  {
   "cell_type": "code",
   "outputs": [
    {
     "name": "stdout",
     "output_type": "stream",
     "text": [
      "Requirement already satisfied: pysuffixarray in /home/dmm2017/miniconda3/lib/python3.11/site-packages (0.0.1)\r\n",
      "[6, 2, 0, 3, 1, 4, 5]\n"
     ]
    }
   ],
   "source": [
    "!pip install pysuffixarray\n",
    "\n",
    "from pysuffixarray.core import SuffixArray\n",
    "sa = SuffixArray('ACAACG')\n",
    "print(sa.suffix_array())"
   ],
   "metadata": {
    "collapsed": false,
    "ExecuteTime": {
     "end_time": "2024-03-19T20:04:09.577306914Z",
     "start_time": "2024-03-19T20:04:08.525908406Z"
    }
   },
   "id": "901444cad3f73472",
   "execution_count": 4
  },
  {
   "cell_type": "markdown",
   "source": [
    "## Task 1: Create BWT using suffix array:\n",
    "\n",
    "- Using BioPython upload SARS-CoV-2 reference genome from fasta file\n",
    "- Construct suffix array\n",
    "- Construct BWT from suffix array \n",
    "- Don't forget to add special symbol (but after SA construction)"
   ],
   "metadata": {
    "collapsed": false
   },
   "id": "dfd7c24d9ac4259d"
  },
  {
   "cell_type": "markdown",
   "source": [
    "![correct](BWT_folder/BWT1.png)"
   ],
   "metadata": {
    "collapsed": false
   },
   "id": "115290e7aa7b5390"
  },
  {
   "cell_type": "markdown",
   "source": [],
   "metadata": {
    "collapsed": false
   },
   "id": "42f8e63f0ab15ef2"
  },
  {
   "cell_type": "markdown",
   "source": [
    "## Task 2: Create FM index\n",
    "- Construct Occurence array\n",
    "- Construct Count dictionary\n",
    "- Make a class BWTSearcher"
   ],
   "metadata": {
    "collapsed": false
   },
   "id": "a0cbf9ccdb615d9e"
  },
  {
   "cell_type": "markdown",
   "source": [
    "![correct](BWT_folder/BWT2.png)"
   ],
   "metadata": {
    "collapsed": false
   },
   "id": "ea92c74387048da7"
  },
  {
   "cell_type": "markdown",
   "source": [
    "### Task 3: \n",
    "- Create pattern search function inside the class"
   ],
   "metadata": {
    "collapsed": false
   },
   "id": "d668c96704c0d00d"
  },
  {
   "cell_type": "markdown",
   "source": [
    "![correct](BWT_folder/BWT3.png)"
   ],
   "metadata": {
    "collapsed": false
   },
   "id": "acb0a416198d82f"
  },
  {
   "cell_type": "markdown",
   "source": [
    "### Task 4:\n",
    "- There are 100 reads that were randomly sampled from genome.fa\n",
    "- Some of them are error free, some contain one mutation, and some contain 5 mutations\n",
    "- Could you use your BWTSearcher class to classify them? Think about the solution and implement it. You can add any functions of class members\n",
    "- How many reads of each class did you find?"
   ],
   "metadata": {
    "collapsed": false
   },
   "id": "fe13a507ac291f00"
  },
  {
   "cell_type": "code",
   "outputs": [],
   "source": [
    "from Bio import SeqIO\n",
    "# Process each read through the BWTSearcher\n",
    "with open(\"BWT_folder/sample_reads.fasta\", \"r\") as file:\n",
    "    for record in SeqIO.parse(file, \"fasta\"):\n",
    "        read_sequence = str(record.seq)\n",
    "\n",
    "        # Here is just a placeholder to demonstrate using the read with the BWTSearcher\n",
    "        print(\"Processing read:\", read_sequence)"
   ],
   "metadata": {
    "collapsed": false
   },
   "id": "ffa0dd70341b90b6"
  },
  {
   "cell_type": "code",
   "outputs": [],
   "source": [
    "# My impletementation of BWT\n",
    "\n",
    "class BWTSearcher:\n",
    "    def __init__(self, reference):\n",
    "        # Construct the suffix array\n",
    "        self.sa = SuffixArray(reference)\n",
    "\n",
    "        # Construct the BWT from the suffix array\n",
    "        self.bwt_text = ''.join(reference[i-1] if i != 0 else '$' for i in self.sa.suffix_array())\n",
    "\n",
    "        self.Occ = {ch: [0] * len(self.bwt_text) for ch in \"$ACGT\"}\n",
    "\n",
    "        for i, ch in enumerate(self.bwt_text):\n",
    "            for ch2 in \"ACGT\":\n",
    "                if i != 0:\n",
    "                    self.Occ[ch2][i] = self.Occ[ch2][i - 1]\n",
    "            if ch in self.Occ.keys():\n",
    "                self.Occ[ch][i] += 1\n",
    "\n",
    "        self.count = {}\n",
    "        total = 0\n",
    "        for ch in \"$ACGT\":\n",
    "            self.count[ch] = total\n",
    "            total += self.bwt_text.count(ch)\n",
    "\n",
    "\n",
    "\n",
    "\n",
    "\n",
    "    def bwt_pattern_search(self, pattern):\n",
    "        top = 0\n",
    "        bottom = len(self.bwt_text) - 1\n",
    "        for char in reversed(pattern):\n",
    "            if char in self.Occ:\n",
    "                top = self.count[char] + (0 if top == 0 else self.Occ[char][top  - 1])\n",
    "                bottom = self.count[char] + self.Occ[char][bottom] - 1\n",
    "            else:\n",
    "                return []\n",
    "\n",
    "            if top > bottom:\n",
    "                return []\n",
    "\n",
    "        return self.sa.suffix_array()[top:bottom + 1]"
   ],
   "metadata": {
    "collapsed": false,
    "ExecuteTime": {
     "end_time": "2024-03-21T21:05:42.144980394Z",
     "start_time": "2024-03-21T21:05:42.115697058Z"
    }
   },
   "id": "1f2e2fb965b8acdd",
   "execution_count": 1
  },
  {
   "cell_type": "markdown",
   "source": [
    "### HMMs: important tips"
   ],
   "metadata": {
    "collapsed": false
   },
   "id": "1ac21c80926fdbc7"
  },
  {
   "cell_type": "markdown",
   "source": [
    "Don't forget about float representation in memory.\n",
    "The lower values we get - the lower the precision is."
   ],
   "metadata": {
    "collapsed": false
   },
   "id": "89789e01f78e2495"
  },
  {
   "cell_type": "code",
   "outputs": [
    {
     "name": "stdout",
     "output_type": "stream",
     "text": [
      "0.004909648519238187\n"
     ]
    }
   ],
   "source": [
    "import random\n",
    "\n",
    "# Define the number of random floats to generate\n",
    "num_floats = 1000\n",
    "\n",
    "# Define the range for random floats\n",
    "min_value = 0.0\n",
    "max_value = 0.00001\n",
    "\n",
    "# Generate a list of random floats\n",
    "random_floats = [random.uniform(min_value, max_value) for _ in range(num_floats)]\n",
    "\n",
    "# Print the list of random floats\n",
    "print(sum(random_floats))"
   ],
   "metadata": {
    "collapsed": false,
    "ExecuteTime": {
     "end_time": "2024-03-19T22:00:43.110652454Z",
     "start_time": "2024-03-19T22:00:43.064953500Z"
    }
   },
   "id": "8cbe758149603bd7",
   "execution_count": 24
  },
  {
   "cell_type": "code",
   "outputs": [
    {
     "name": "stdout",
     "output_type": "stream",
     "text": [
      "0.0049096485192381845\n"
     ]
    }
   ],
   "source": [
    "random_floats = sorted(random_floats)\n",
    "print(sum(random_floats))"
   ],
   "metadata": {
    "collapsed": false,
    "ExecuteTime": {
     "end_time": "2024-03-19T22:00:44.674257380Z",
     "start_time": "2024-03-19T22:00:44.672697548Z"
    }
   },
   "id": "f66cd3bb2e320fe8",
   "execution_count": 25
  },
  {
   "cell_type": "code",
   "outputs": [
    {
     "name": "stdout",
     "output_type": "stream",
     "text": [
      "0.004909648519238181\n"
     ]
    }
   ],
   "source": [
    "print(sum(random_floats[::-1]))"
   ],
   "metadata": {
    "collapsed": false,
    "ExecuteTime": {
     "end_time": "2024-03-19T22:00:52.503072334Z",
     "start_time": "2024-03-19T22:00:52.498920534Z"
    }
   },
   "id": "bdff9c91b8f67724",
   "execution_count": 26
  },
  {
   "cell_type": "markdown",
   "source": [
    "Also, in Vitterbi algorithm we want to multiply small numbers multiple times, we can go out of the limits very fast."
   ],
   "metadata": {
    "collapsed": false
   },
   "id": "85e6cce295489311"
  },
  {
   "cell_type": "markdown",
   "source": [
    "\n",
    "For single-precision floats (`float` in Python), the range of representable values is approximately from 1.17549 × 10^-38 to 3.40282 × 10^38, with a precision of about 7 decimal digits.\n",
    "\n",
    "For double-precision floats (`double` in C/C++, `float64` in Python), the range is much wider, approximately from 2.22507 × 10^-308 to 1.79769 × 10^308, with a precision of about 15-16 decimal digits.\n"
   ],
   "metadata": {
    "collapsed": false
   },
   "id": "4425e1e75363078c"
  },
  {
   "cell_type": "markdown",
   "source": [
    "# Log Multiplication\n",
    "\n",
    "The log multiplication formula states that the logarithm of the product of multiple numbers is equal to the sum of the logarithms of those numbers. Mathematically, it can be expressed as:\n",
    "\n",
    "log(P(A,B,C)) = log(P(A)) + log(P(B)) + log(P(C))\n",
    "\n",
    "\n",
    "Where \\( P(A,B,C) \\) represents the product of numbers \\( A \\), \\( B \\), and \\( C \\), and \\( P(A) \\), \\( P(B) \\), \\( P(C) \\) represent the individual numbers.\n",
    "\n",
    "To retrieve the product \\( P(A,B,C) \\) from the logarithmic sum, you can exponentiate the result:\n",
    "\n",
    "P(A,B,C) = e^log(P(A,B,C))\n",
    "\n",
    "\n",
    "Log multiplication is particularly useful in scenarios where you need to handle very large or very small numbers, as it simplifies complex calculations involving multiplication operations. By converting multiplication into addition, log multiplication can help mitigate numerical instability and reduce the risk of overflow or underflow errors.\n",
    "\n",
    "\n",
    "\n"
   ],
   "metadata": {
    "collapsed": false
   },
   "id": "1e3216fc5011bc43"
  },
  {
   "cell_type": "markdown",
   "source": [
    "More info here - [https://en.wikipedia.org/wiki/Log_probability](https://en.wikipedia.org/wiki/Log_probability)"
   ],
   "metadata": {
    "collapsed": false
   },
   "id": "95ebee1caa2aa86c"
  },
  {
   "cell_type": "code",
   "outputs": [],
   "source": [],
   "metadata": {
    "collapsed": false
   },
   "id": "baf49f271dc74ae1"
  }
 ],
 "metadata": {
  "kernelspec": {
   "display_name": "Python 3",
   "language": "python",
   "name": "python3"
  },
  "language_info": {
   "codemirror_mode": {
    "name": "ipython",
    "version": 2
   },
   "file_extension": ".py",
   "mimetype": "text/x-python",
   "name": "python",
   "nbconvert_exporter": "python",
   "pygments_lexer": "ipython2",
   "version": "2.7.6"
  }
 },
 "nbformat": 4,
 "nbformat_minor": 5
}
