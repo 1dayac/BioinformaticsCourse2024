{
 "cells": [
  {
   "cell_type": "markdown",
   "source": [
    "# PSSM Matrices"
   ],
   "metadata": {
    "collapsed": false
   },
   "id": "af17c8a670a1d8f8"
  },
  {
   "cell_type": "code",
   "outputs": [
    {
     "name": "stdout",
     "output_type": "stream",
     "text": [
      "Requirement already satisfied: biotite in /home/dmm2017/miniconda3/lib/python3.11/site-packages (0.40.0)\r\n",
      "Requirement already satisfied: requests>=2.12 in /home/dmm2017/miniconda3/lib/python3.11/site-packages (from biotite) (2.31.0)\r\n",
      "Requirement already satisfied: numpy<=2.0,>=1.14.5 in /home/dmm2017/miniconda3/lib/python3.11/site-packages (from biotite) (1.26.3)\r\n",
      "Requirement already satisfied: msgpack>=0.5.6 in /home/dmm2017/miniconda3/lib/python3.11/site-packages (from biotite) (1.0.8)\r\n",
      "Requirement already satisfied: networkx>=2.0 in /home/dmm2017/miniconda3/lib/python3.11/site-packages (from biotite) (3.2.1)\r\n",
      "Requirement already satisfied: charset-normalizer<4,>=2 in /home/dmm2017/miniconda3/lib/python3.11/site-packages (from requests>=2.12->biotite) (2.0.4)\r\n",
      "Requirement already satisfied: idna<4,>=2.5 in /home/dmm2017/miniconda3/lib/python3.11/site-packages (from requests>=2.12->biotite) (3.4)\r\n",
      "Requirement already satisfied: urllib3<3,>=1.21.1 in /home/dmm2017/miniconda3/lib/python3.11/site-packages (from requests>=2.12->biotite) (1.26.18)\r\n",
      "Requirement already satisfied: certifi>=2017.4.17 in /home/dmm2017/miniconda3/lib/python3.11/site-packages (from requests>=2.12->biotite) (2024.2.2)\r\n"
     ]
    }
   ],
   "source": [
    "!pip install biotite\n",
    "\n",
    "from Bio.Seq import Seq\n",
    "import numpy as np\n",
    "import matplotlib.pyplot as plt\n",
    "import biotite.sequence as seq\n",
    "import biotite.sequence.align as align\n",
    "import biotite.sequence.graphics as graphics\n",
    "\n",
    "# The list of Anderson promoters\n",
    "seqs = [Seq(\"ttgacagctagctcagtcctaggtataatgctagc\"),\n",
    "        Seq(\"ttgacagctagctcagtcctaggtataatgctagc\"),\n",
    "        Seq(\"tttacagctagctcagtcctaggtattatgctagc\"),\n",
    "        Seq(\"ttgacagctagctcagtcctaggtactgtgctagc\"),\n",
    "        Seq(\"ctgatagctagctcagtcctagggattatgctagc\"),\n",
    "        Seq(\"ttgacagctagctcagtcctaggtattgtgctagc\"),\n",
    "        Seq(\"tttacggctagctcagtcctaggtactatgctagc\"),\n",
    "        Seq(\"tttacggctagctcagtcctaggtatagtgctagc\"),\n",
    "        Seq(\"tttacggctagctcagccctaggtattatgctagc\"),\n",
    "        Seq(\"ctgacagctagctcagtcctaggtataatgctagc\"),\n",
    "        Seq(\"tttacagctagctcagtcctagggactgtgctagc\"),\n",
    "        Seq(\"tttacggctagctcagtcctaggtacaatgctagc\"),\n",
    "        Seq(\"ttgacggctagctcagtcctaggtatagtgctagc\"),\n",
    "        Seq(\"ctgatagctagctcagtcctagggattatgctagc\"),\n",
    "        Seq(\"ctgatggctagctcagtcctagggattatgctagc\"),\n",
    "        Seq(\"tttatggctagctcagtcctaggtacaatgctagc\"),\n",
    "        Seq(\"tttatagctagctcagcccttggtacaatgctagc\"),\n",
    "        Seq(\"ttgacagctagctcagtcctagggactatgctagc\"),\n",
    "        Seq(\"ttgacagctagctcagtcctagggattgtgctagc\"),\n",
    "        Seq(\"ttgacggctagctcagtcctaggtattgtgctagc\")]\n"
   ],
   "metadata": {
    "collapsed": false,
    "ExecuteTime": {
     "end_time": "2024-04-09T19:22:06.375887158Z",
     "start_time": "2024-04-09T19:22:04.783938397Z"
    }
   },
   "id": "6350f0982294fe13",
   "execution_count": 1
  },
  {
   "cell_type": "markdown",
   "source": [
    "## Task 1: \n",
    "Given sequence collection, construct position frequency matrix (PFM) and from PFM construct PPM.\n",
    "\n",
    "![correct](practice5_files/PFM.png)"
   ],
   "metadata": {
    "collapsed": false
   },
   "id": "18151b0967e27eb5"
  },
  {
   "cell_type": "markdown",
   "source": [
    "# Your code goes here\n",
    "#\n",
    "#"
   ],
   "metadata": {
    "collapsed": false
   },
   "id": "64d23199f528a314"
  },
  {
   "cell_type": "markdown",
   "source": [
    "## Task 2\n",
    "\n",
    "You have a Lactobacillus genome in \"practice5_files\" folder. Let's try to find the 10 top-scoring according to your PSM... "
   ],
   "metadata": {
    "collapsed": false
   },
   "id": "b6aff88753a073a4"
  },
  {
   "cell_type": "markdown",
   "source": [
    "# Your code goes here\n",
    "#\n",
    "#"
   ],
   "metadata": {
    "collapsed": false
   },
   "id": "706809fdd9396434"
  },
  {
   "cell_type": "markdown",
   "source": [
    "## Task 3\n",
    "\n",
    "Since your previous step did not give any meaningful results, let's try and add pseudocounts to the model (just add 0.01 probability to every cell of PPM)"
   ],
   "metadata": {
    "collapsed": false
   },
   "id": "6157f22b15cb38e3"
  },
  {
   "cell_type": "markdown",
   "source": [
    "# Your code goes here\n",
    "#\n",
    "#"
   ],
   "metadata": {
    "collapsed": false
   },
   "id": "eb08e86c8391428a"
  },
  {
   "cell_type": "markdown",
   "source": [
    "## Task 4\n",
    "\n",
    "Ok, now we have some top-scoring positions, however, numbers are not impressive of meaningful.\n",
    "\n",
    "To get meaningful results let's switch to log odds Position Weight Matrix (PWM)\n",
    "![correct](practice5_files/PPM.png)\n",
    "\n",
    "b_k - frequency of nucleotide k in background model (nucleotide frequency based)"
   ],
   "metadata": {
    "collapsed": false
   },
   "id": "65a43fffd2a709f6"
  },
  {
   "cell_type": "markdown",
   "source": [
    "# Your code goes here\n",
    "#\n",
    "#"
   ],
   "metadata": {
    "collapsed": false
   },
   "id": "2ea410b704d96d21"
  }
 ],
 "metadata": {
  "kernelspec": {
   "display_name": "Python 3",
   "language": "python",
   "name": "python3"
  },
  "language_info": {
   "codemirror_mode": {
    "name": "ipython",
    "version": 2
   },
   "file_extension": ".py",
   "mimetype": "text/x-python",
   "name": "python",
   "nbconvert_exporter": "python",
   "pygments_lexer": "ipython2",
   "version": "2.7.6"
  }
 },
 "nbformat": 4,
 "nbformat_minor": 5
}
